{
  "cells": [
    {
      "cell_type": "markdown",
      "metadata": {
        "id": "view-in-github",
        "colab_type": "text"
      },
      "source": [
        "<a href=\"https://colab.research.google.com/github/nyashaswini6/login-and-register/blob/main/Copy_of_Numpy_tasks.ipynb\" target=\"_parent\"><img src=\"https://colab.research.google.com/assets/colab-badge.svg\" alt=\"Open In Colab\"/></a>"
      ]
    },
    {
      "cell_type": "markdown",
      "metadata": {
        "id": "lJgDGV_airwE"
      },
      "source": [
        "# Numpy\n",
        "\n"
      ]
    },
    {
      "cell_type": "markdown",
      "metadata": {
        "id": "cQOBcINZirwL"
      },
      "source": [
        "#### 1. Import the numpy package under the name `np` (★☆☆) \n",
        "(**hint**: import … as …)"
      ]
    },
    {
      "cell_type": "code",
      "execution_count": null,
      "metadata": {
        "collapsed": true,
        "id": "1bGQo_y9irwN"
      },
      "outputs": [],
      "source": [
        "import numpy as np"
      ]
    },
    {
      "cell_type": "markdown",
      "metadata": {
        "id": "betBV6tqirwO"
      },
      "source": [
        "#### 2. Print the numpy version and the configuration (★☆☆) \n",
        "(**hint**: np.\\_\\_version\\_\\_, np.show\\_config)"
      ]
    },
    {
      "cell_type": "code",
      "execution_count": null,
      "metadata": {
        "id": "di0Z6oFUirwP",
        "colab": {
          "base_uri": "https://localhost:8080/"
        },
        "outputId": "64720572-abf6-4dc7-cc14-26482c356a8a"
      },
      "outputs": [
        {
          "output_type": "stream",
          "name": "stdout",
          "text": [
            "blas_mkl_info:\n",
            "  NOT AVAILABLE\n",
            "blis_info:\n",
            "  NOT AVAILABLE\n",
            "openblas_info:\n",
            "    libraries = ['openblas', 'openblas']\n",
            "    library_dirs = ['/usr/local/lib']\n",
            "    language = c\n",
            "    define_macros = [('HAVE_CBLAS', None)]\n",
            "    runtime_library_dirs = ['/usr/local/lib']\n",
            "blas_opt_info:\n",
            "    libraries = ['openblas', 'openblas']\n",
            "    library_dirs = ['/usr/local/lib']\n",
            "    language = c\n",
            "    define_macros = [('HAVE_CBLAS', None)]\n",
            "    runtime_library_dirs = ['/usr/local/lib']\n",
            "lapack_mkl_info:\n",
            "  NOT AVAILABLE\n",
            "openblas_lapack_info:\n",
            "    libraries = ['openblas', 'openblas']\n",
            "    library_dirs = ['/usr/local/lib']\n",
            "    language = c\n",
            "    define_macros = [('HAVE_CBLAS', None)]\n",
            "    runtime_library_dirs = ['/usr/local/lib']\n",
            "lapack_opt_info:\n",
            "    libraries = ['openblas', 'openblas']\n",
            "    library_dirs = ['/usr/local/lib']\n",
            "    language = c\n",
            "    define_macros = [('HAVE_CBLAS', None)]\n",
            "    runtime_library_dirs = ['/usr/local/lib']\n",
            "Supported SIMD extensions in this NumPy install:\n",
            "    baseline = SSE,SSE2,SSE3\n",
            "    found = SSSE3,SSE41,POPCNT,SSE42,AVX,F16C,FMA3,AVX2\n",
            "    not found = AVX512F,AVX512CD,AVX512_KNL,AVX512_KNM,AVX512_SKX,AVX512_CLX,AVX512_CNL,AVX512_ICL\n"
          ]
        }
      ],
      "source": [
        "np.version.version\n",
        "np.show_config()"
      ]
    },
    {
      "cell_type": "markdown",
      "metadata": {
        "id": "gcT_BK8NirwQ"
      },
      "source": [
        "#### 3. Create a null vector of size 10 (★☆☆) \n",
        "(**hint**: np.zeros)"
      ]
    },
    {
      "cell_type": "code",
      "execution_count": null,
      "metadata": {
        "id": "BLRIhlPXirwR",
        "colab": {
          "base_uri": "https://localhost:8080/"
        },
        "outputId": "9c4aedd4-e6ff-4f82-a9a1-aa9a688248d6"
      },
      "outputs": [
        {
          "output_type": "stream",
          "name": "stdout",
          "text": [
            "[0. 0. 0. 0. 0. 0. 0. 0. 0. 0.]\n"
          ]
        }
      ],
      "source": [
        "x = np.zeros(10)\n",
        "print(x)"
      ]
    },
    {
      "cell_type": "markdown",
      "metadata": {
        "id": "Hsetf-s3irwT"
      },
      "source": [
        "#### 4.  How to find the memory size of any array (★☆☆) \n",
        "(**hint**: size, itemsize)"
      ]
    },
    {
      "cell_type": "code",
      "execution_count": null,
      "metadata": {
        "id": "gr8iyyoMirwV",
        "colab": {
          "base_uri": "https://localhost:8080/"
        },
        "outputId": "e42df371-d183-46ca-e534-b628139e7604"
      },
      "outputs": [
        {
          "output_type": "stream",
          "name": "stdout",
          "text": [
            "128 bytes\n"
          ]
        }
      ],
      "source": [
        "import numpy as np\n",
        "n = np.zeros((4,4))\n",
        "print(\"%d bytes\" % (n.size * n.itemsize))"
      ]
    },
    {
      "cell_type": "markdown",
      "metadata": {
        "id": "yeScuWyYirwW"
      },
      "source": [
        "#### 5.  How to get the documentation of the numpy add function from the command line? (★☆☆) \n",
        "(**hint**: np.info)"
      ]
    },
    {
      "cell_type": "code",
      "execution_count": null,
      "metadata": {
        "collapsed": true,
        "id": "_lNtOof4irwX",
        "colab": {
          "base_uri": "https://localhost:8080/"
        },
        "outputId": "5c1f5174-165c-4269-d5ec-b510ac6ace4a"
      },
      "outputs": [
        {
          "output_type": "stream",
          "name": "stdout",
          "text": [
            "add(x1, x2, /, out=None, *, where=True, casting='same_kind', order='K', dtype=None, subok=True[, signature, extobj])\n",
            "\n",
            "Add arguments element-wise.\n",
            "\n",
            "Parameters\n",
            "----------\n",
            "x1, x2 : array_like\n",
            "    The arrays to be added.\n",
            "    If ``x1.shape != x2.shape``, they must be broadcastable to a common\n",
            "    shape (which becomes the shape of the output).\n",
            "out : ndarray, None, or tuple of ndarray and None, optional\n",
            "    A location into which the result is stored. If provided, it must have\n",
            "    a shape that the inputs broadcast to. If not provided or None,\n",
            "    a freshly-allocated array is returned. A tuple (possible only as a\n",
            "    keyword argument) must have length equal to the number of outputs.\n",
            "where : array_like, optional\n",
            "    This condition is broadcast over the input. At locations where the\n",
            "    condition is True, the `out` array will be set to the ufunc result.\n",
            "    Elsewhere, the `out` array will retain its original value.\n",
            "    Note that if an uninitialized `out` array is created via the default\n",
            "    ``out=None``, locations within it where the condition is False will\n",
            "    remain uninitialized.\n",
            "**kwargs\n",
            "    For other keyword-only arguments, see the\n",
            "    :ref:`ufunc docs <ufuncs.kwargs>`.\n",
            "\n",
            "Returns\n",
            "-------\n",
            "add : ndarray or scalar\n",
            "    The sum of `x1` and `x2`, element-wise.\n",
            "    This is a scalar if both `x1` and `x2` are scalars.\n",
            "\n",
            "Notes\n",
            "-----\n",
            "Equivalent to `x1` + `x2` in terms of array broadcasting.\n",
            "\n",
            "Examples\n",
            "--------\n",
            ">>> np.add(1.0, 4.0)\n",
            "5.0\n",
            ">>> x1 = np.arange(9.0).reshape((3, 3))\n",
            ">>> x2 = np.arange(3.0)\n",
            ">>> np.add(x1, x2)\n",
            "array([[  0.,   2.,   4.],\n",
            "       [  3.,   5.,   7.],\n",
            "       [  6.,   8.,  10.]])\n",
            "\n",
            "The ``+`` operator can be used as a shorthand for ``np.add`` on ndarrays.\n",
            "\n",
            ">>> x1 = np.arange(9.0).reshape((3, 3))\n",
            ">>> x2 = np.arange(3.0)\n",
            ">>> x1 + x2\n",
            "array([[ 0.,  2.,  4.],\n",
            "       [ 3.,  5.,  7.],\n",
            "       [ 6.,  8., 10.]])\n"
          ]
        }
      ],
      "source": [
        "import numpy;\n",
        "numpy.info(numpy.add)"
      ]
    },
    {
      "cell_type": "markdown",
      "metadata": {
        "id": "UFcjLzG-irwX"
      },
      "source": [
        "#### 6.  Create a null vector of size 10 but the fifth value which is 1 (★☆☆) \n",
        "(**hint**: array\\[4\\])"
      ]
    },
    {
      "cell_type": "code",
      "execution_count": null,
      "metadata": {
        "id": "tbp7visOirwY",
        "colab": {
          "base_uri": "https://localhost:8080/"
        },
        "outputId": "47a3573e-6b08-4f33-9d17-c8003971e93c"
      },
      "outputs": [
        {
          "output_type": "stream",
          "name": "stdout",
          "text": [
            "[0. 0. 0. 0. 1. 0. 0. 0. 0. 0.]\n"
          ]
        }
      ],
      "source": [
        "x = np.zeros(10)\n",
        "x[4] = 1\n",
        "print(x)"
      ]
    },
    {
      "cell_type": "markdown",
      "metadata": {
        "id": "ytb4Wmk1irwZ"
      },
      "source": [
        "#### 7.  Create a vector with values ranging from 10 to 49 (★☆☆) \n",
        "(**hint**: np.arange)"
      ]
    },
    {
      "cell_type": "code",
      "execution_count": null,
      "metadata": {
        "id": "atRWdFovirwa",
        "colab": {
          "base_uri": "https://localhost:8080/"
        },
        "outputId": "0fca31a2-cc96-46d5-da90-984ebcc8a6e3"
      },
      "outputs": [
        {
          "output_type": "stream",
          "name": "stdout",
          "text": [
            "[10 11 12 13 14 15 16 17 18 19 20 21 22 23 24 25 26 27 28 29 30 31 32 33\n",
            " 34 35 36 37 38 39 40 41 42 43 44 45 46 47 48 49]\n"
          ]
        }
      ],
      "source": [
        "x = np.arange(10,50)\n",
        "print(x)"
      ]
    },
    {
      "cell_type": "markdown",
      "metadata": {
        "id": "qgE-D11Kirwa"
      },
      "source": [
        "#### 8.  Reverse a vector (first element becomes last) (★☆☆) \n",
        "(**hint**: array\\[::-1\\])"
      ]
    },
    {
      "cell_type": "code",
      "execution_count": null,
      "metadata": {
        "id": "zFio_Pj5irwb",
        "colab": {
          "base_uri": "https://localhost:8080/"
        },
        "outputId": "0f8c8b0d-07d9-4fbe-9a15-85cc26be3a10"
      },
      "outputs": [
        {
          "output_type": "stream",
          "name": "stdout",
          "text": [
            "[49 48 47 46 45 44 43 42 41 40 39 38 37 36 35 34 33 32 31 30 29 28 27 26\n",
            " 25 24 23 22 21 20 19 18 17 16 15 14 13 12 11 10]\n"
          ]
        }
      ],
      "source": [
        "x = np.arange(10,50)\n",
        "x = x[::-1]\n",
        "print(x)"
      ]
    },
    {
      "cell_type": "markdown",
      "metadata": {
        "id": "zKOeVGgFirwb"
      },
      "source": [
        "#### 9.  Create a 3x3 matrix with values ranging from 0 to 8 (★☆☆) \n",
        "(**hint**: reshape)"
      ]
    },
    {
      "cell_type": "code",
      "execution_count": null,
      "metadata": {
        "id": "K3W_pbeZirwc",
        "colab": {
          "base_uri": "https://localhost:8080/"
        },
        "outputId": "966bd4b5-a6fd-4456-ab5f-37c7f2ef2862"
      },
      "outputs": [
        {
          "output_type": "stream",
          "name": "stdout",
          "text": [
            "[[0 1 2]\n",
            " [3 4 5]\n",
            " [6 7 8]]\n"
          ]
        }
      ],
      "source": [
        "import numpy as np\n",
        "x = np.arange(9).reshape(3,3)\n",
        "print(x)"
      ]
    },
    {
      "cell_type": "markdown",
      "metadata": {
        "id": "Xfi-0-KOirwd"
      },
      "source": [
        "#### 10. Find indices of non-zero elements from \\[1,2,0,0,4,0\\] (★☆☆) \n",
        "(**hint**: np.nonzero)"
      ]
    },
    {
      "cell_type": "code",
      "execution_count": null,
      "metadata": {
        "id": "E1cRxYM7irwd",
        "colab": {
          "base_uri": "https://localhost:8080/"
        },
        "outputId": "80c7db8e-d191-4354-8a4a-af21b91652cf"
      },
      "outputs": [
        {
          "output_type": "stream",
          "name": "stdout",
          "text": [
            "(array([0, 1, 4]),)\n"
          ]
        }
      ],
      "source": [
        "import numpy as np\n",
        "nz = np.nonzero([1,2,0,0,4,0])\n",
        "print(nz)\n"
      ]
    },
    {
      "cell_type": "markdown",
      "metadata": {
        "id": "XBBrCt2airwk"
      },
      "source": [
        "#### 11. Create a 3x3 identity matrix (★☆☆) \n",
        "(**hint**: np.eye)"
      ]
    },
    {
      "cell_type": "code",
      "execution_count": null,
      "metadata": {
        "id": "-n-9RCWOirwk",
        "colab": {
          "base_uri": "https://localhost:8080/"
        },
        "outputId": "ac6dab96-bda7-4e2b-b176-b43e79d7ec88"
      },
      "outputs": [
        {
          "output_type": "stream",
          "name": "stdout",
          "text": [
            "[[1. 0. 0.]\n",
            " [0. 1. 0.]\n",
            " [0. 0. 1.]]\n"
          ]
        }
      ],
      "source": [
        "import numpy as np\n",
        "z = np.eye(3)\n",
        "print(z)"
      ]
    },
    {
      "cell_type": "markdown",
      "metadata": {
        "id": "8bY9VTMcirwl"
      },
      "source": [
        "#### 12. Create a 3x3x3 array with random values (★☆☆) \n",
        "(**hint**: np.random.random)"
      ]
    },
    {
      "cell_type": "code",
      "execution_count": null,
      "metadata": {
        "collapsed": true,
        "id": "V59Z3Z21irwl",
        "colab": {
          "base_uri": "https://localhost:8080/"
        },
        "outputId": "7f1223e7-5052-4ccf-a04d-4f6c82e5bc78"
      },
      "outputs": [
        {
          "output_type": "stream",
          "name": "stdout",
          "text": [
            "[2.08931221 2.15459786 2.86941581]\n"
          ]
        }
      ],
      "source": [
        "import numpy as np\n",
        "x = np.random.uniform((3,3,3))\n",
        "print(x)"
      ]
    },
    {
      "cell_type": "markdown",
      "metadata": {
        "id": "Gu3OyJnUirwm"
      },
      "source": [
        "#### 13. Create a 10x10 array with random values and find the minimum and maximum values (★☆☆) \n",
        "(**hint**: min, max)"
      ]
    },
    {
      "cell_type": "code",
      "execution_count": null,
      "metadata": {
        "id": "lkGjbRsmirwm",
        "colab": {
          "base_uri": "https://localhost:8080/"
        },
        "outputId": "c7c7588d-7b1f-4f9e-cfa4-38c36f15940a"
      },
      "outputs": [
        {
          "output_type": "stream",
          "name": "stdout",
          "text": [
            "0.00647938720198471 0.9844868279760954\n"
          ]
        }
      ],
      "source": [
        "import numpy as np\n",
        "x = np.random.random((10,10))\n",
        "xmin, xmax = x.min(), x.max()\n",
        "print(xmin, xmax)"
      ]
    },
    {
      "cell_type": "markdown",
      "metadata": {
        "id": "2fop2LFqirwm"
      },
      "source": [
        "#### 14. Create a random vector of size 30 and find the mean value (★☆☆) \n",
        "(**hint**: mean)"
      ]
    },
    {
      "cell_type": "code",
      "execution_count": null,
      "metadata": {
        "id": "VsaClWOeirwn",
        "colab": {
          "base_uri": "https://localhost:8080/"
        },
        "outputId": "780f4b74-5a94-4a66-e9a8-183c2f13f19d"
      },
      "outputs": [
        {
          "output_type": "stream",
          "name": "stdout",
          "text": [
            "0.5355886574460492\n"
          ]
        }
      ],
      "source": [
        "import numpy as np\n",
        "x = np.random.random(10)\n",
        "m = x.mean()\n",
        "print(m)"
      ]
    },
    {
      "cell_type": "markdown",
      "metadata": {
        "id": "stMGwTeXirwn"
      },
      "source": [
        "#### 15. Create a 2d array with 1 on the border and 0 inside (★☆☆) \n",
        "(**hint**: array\\[1:-1, 1:-1\\])"
      ]
    },
    {
      "cell_type": "code",
      "execution_count": null,
      "metadata": {
        "id": "6rup80moirwo"
      },
      "outputs": [],
      "source": [
        "import numpy as np\n",
        "x = np.ones((10,10))\n",
        "x[1:-1,1:-1]=0"
      ]
    },
    {
      "cell_type": "markdown",
      "metadata": {
        "id": "L7Mcva2yirwo"
      },
      "source": [
        "#### 16. How to add a border (filled with 0's) around an existing array? (★☆☆) \n",
        "(**hint**: np.pad)"
      ]
    },
    {
      "cell_type": "code",
      "execution_count": null,
      "metadata": {
        "id": "ddPMkBERirwp",
        "colab": {
          "base_uri": "https://localhost:8080/"
        },
        "outputId": "7c6c5250-55cb-4abf-f8f2-e0ba8b40ec49"
      },
      "outputs": [
        {
          "output_type": "stream",
          "name": "stdout",
          "text": [
            "[[0. 0. 0. 0. 0. 0. 0.]\n",
            " [0. 1. 1. 1. 1. 1. 0.]\n",
            " [0. 1. 1. 1. 1. 1. 0.]\n",
            " [0. 1. 1. 1. 1. 1. 0.]\n",
            " [0. 1. 1. 1. 1. 1. 0.]\n",
            " [0. 1. 1. 1. 1. 1. 0.]\n",
            " [0. 0. 0. 0. 0. 0. 0.]]\n"
          ]
        }
      ],
      "source": [
        "import numpy as np\n",
        "x = np.ones((5,5))\n",
        "x = np.pad(x, pad_width=1, mode='constant', constant_values=0)\n",
        "print(x)"
      ]
    },
    {
      "cell_type": "markdown",
      "metadata": {
        "id": "QlxCm0ltirwp"
      },
      "source": [
        "#### 17. What is the result of the following expression? (★☆☆) \n",
        "(**hint**: NaN = not a number, inf = infinity)"
      ]
    },
    {
      "cell_type": "markdown",
      "metadata": {
        "id": "T0mB5NL-irwp"
      },
      "source": [
        "```python\n",
        "0 * np.nan\n",
        "np.nan == np.nan\n",
        "np.inf > np.nan\n",
        "np.nan - np.nan\n",
        "0.3 == 3 * 0.1\n",
        "```"
      ]
    },
    {
      "cell_type": "code",
      "execution_count": null,
      "metadata": {
        "id": "e1eMQ0fTirwq",
        "colab": {
          "base_uri": "https://localhost:8080/"
        },
        "outputId": "f7d732d8-867c-4c0d-c179-cc6d5a03dc0b"
      },
      "outputs": [
        {
          "output_type": "stream",
          "name": "stdout",
          "text": [
            "nan\n",
            "False\n",
            "False\n",
            "nan\n",
            "True\n",
            "False\n"
          ]
        }
      ],
      "source": [
        "import numpy as np\n",
        "print(0 * np.nan)\n",
        "print(np.nan == np.nan)\n",
        "print(np.nan > np.nan)\n",
        "print(np.nan - np.nan)\n",
        "print(np.nan in set([np.nan]))\n",
        "print(0.3 == 3 * 0.1)"
      ]
    },
    {
      "cell_type": "code",
      "source": [
        "from google.colab import drive\n",
        "drive.mount('/content/drive')"
      ],
      "metadata": {
        "id": "fF3GYY3it5yr"
      },
      "execution_count": null,
      "outputs": []
    },
    {
      "cell_type": "markdown",
      "metadata": {
        "id": "IKgmvmZtirwq"
      },
      "source": [
        "#### 18. Create a 5x5 matrix with values 1,2,3,4 just below the diagonal (★☆☆) \n",
        "(**hint**: np.diag)"
      ]
    },
    {
      "cell_type": "code",
      "execution_count": null,
      "metadata": {
        "id": "u9OsTrlOirwr",
        "colab": {
          "base_uri": "https://localhost:8080/"
        },
        "outputId": "2fd1fb65-8bb5-4dfb-d9c2-a17e9e0c1e32"
      },
      "outputs": [
        {
          "output_type": "stream",
          "name": "stdout",
          "text": [
            "[[0 0 0 0 0]\n",
            " [1 0 0 0 0]\n",
            " [0 2 0 0 0]\n",
            " [0 0 3 0 0]\n",
            " [0 0 0 4 0]]\n"
          ]
        }
      ],
      "source": [
        "import numpy as np\n",
        "x = np.diag(1+np.arange(4),k=-1)\n",
        "print(x)"
      ]
    },
    {
      "cell_type": "markdown",
      "metadata": {
        "id": "dDOXIYH4irwr"
      },
      "source": [
        "#### 19. Create a 8x8 matrix and fill it with a checkerboard pattern (★☆☆) \n",
        "(**hint**: array\\[::2\\])"
      ]
    },
    {
      "cell_type": "code",
      "execution_count": null,
      "metadata": {
        "id": "3gNJl4Shirws",
        "colab": {
          "base_uri": "https://localhost:8080/"
        },
        "outputId": "77c15e03-2f05-4b09-8245-56766737d37f"
      },
      "outputs": [
        {
          "output_type": "stream",
          "name": "stdout",
          "text": [
            "[[0 1 0 1 0 1 0 1]\n",
            " [1 0 1 0 1 0 1 0]\n",
            " [0 1 0 1 0 1 0 1]\n",
            " [1 0 1 0 1 0 1 0]\n",
            " [0 1 0 1 0 1 0 1]\n",
            " [1 0 1 0 1 0 1 0]\n",
            " [0 1 0 1 0 1 0 1]\n",
            " [1 0 1 0 1 0 1 0]]\n"
          ]
        }
      ],
      "source": [
        "import numpy as np\n",
        "x = np.zeros((8,8),dtype=int)\n",
        "x[1::2,::2] = 1\n",
        "x[::2,1::2] = 1\n",
        "print(x)"
      ]
    },
    {
      "cell_type": "markdown",
      "metadata": {
        "id": "V-O8bmCiirws"
      },
      "source": [
        "#### 20. Consider a (6,7,8) shape array, what is the index (x,y,z) of the 100th element? \n",
        "(**hint**: np.unravel_index)"
      ]
    },
    {
      "cell_type": "code",
      "execution_count": null,
      "metadata": {
        "id": "0tt50iAxirws",
        "colab": {
          "base_uri": "https://localhost:8080/"
        },
        "outputId": "087475fc-4aba-48f4-83c4-167638313cd4"
      },
      "outputs": [
        {
          "output_type": "stream",
          "name": "stdout",
          "text": [
            "(1, 5, 3)\n"
          ]
        }
      ],
      "source": [
        "import numpy as np\n",
        "print(np.unravel_index(99,(6,7,8)))"
      ]
    },
    {
      "cell_type": "markdown",
      "metadata": {
        "id": "7GYV9Cbvirwt"
      },
      "source": [
        "#### 21. Create a checkerboard 8x8 matrix using the tile function (★☆☆) \n",
        "(**hint**: np.tile)"
      ]
    },
    {
      "cell_type": "code",
      "execution_count": null,
      "metadata": {
        "id": "THb5X0qHirwt",
        "colab": {
          "base_uri": "https://localhost:8080/"
        },
        "outputId": "50a29868-d3a0-457e-fe08-6535910e115c"
      },
      "outputs": [
        {
          "output_type": "stream",
          "name": "stdout",
          "text": [
            "[[0 1 0 1 0 1 0 1]\n",
            " [1 0 1 0 1 0 1 0]\n",
            " [0 1 0 1 0 1 0 1]\n",
            " [1 0 1 0 1 0 1 0]\n",
            " [0 1 0 1 0 1 0 1]\n",
            " [1 0 1 0 1 0 1 0]\n",
            " [0 1 0 1 0 1 0 1]\n",
            " [1 0 1 0 1 0 1 0]]\n"
          ]
        }
      ],
      "source": [
        "import numpy as np\n",
        "x = np.tile(np.array([[0,1],[1,0]]),(4,4))\n",
        "print(x)"
      ]
    },
    {
      "cell_type": "markdown",
      "metadata": {
        "id": "hBiciJDbirwu"
      },
      "source": [
        "#### 22. Normalize a 5x5 random matrix (★☆☆) \n",
        "(**hint**: (x - min) / (max - min))"
      ]
    },
    {
      "cell_type": "code",
      "execution_count": null,
      "metadata": {
        "id": "JCFm5DX2irwu",
        "colab": {
          "base_uri": "https://localhost:8080/"
        },
        "outputId": "ba02b754-28dd-4bec-b041-cd7b60fde863"
      },
      "outputs": [
        {
          "output_type": "stream",
          "name": "stdout",
          "text": [
            "[[ 5.85850549e-01  2.56564917e-01  6.51590054e-01  1.54185085e+00\n",
            "  -1.29720249e+00]\n",
            " [ 6.58047441e-01  6.60189860e-01  9.93511037e-01 -1.04366904e+00\n",
            "  -1.53652136e+00]\n",
            " [-1.48358054e-03 -5.90216377e-01  1.37284110e+00 -8.52157225e-01\n",
            "  -1.23022149e+00]\n",
            " [-1.24467653e+00  8.24856424e-01 -5.22955634e-01 -1.39441968e+00\n",
            "   1.26853903e+00]\n",
            " [ 9.92684529e-03 -1.07327385e+00  1.72955390e+00 -1.07180953e-01\n",
            "   3.40656199e-01]]\n"
          ]
        }
      ],
      "source": [
        "import numpy as np\n",
        "x = np.random.random((5,5))\n",
        "x = (x - np.mean (x)) / (np.std (x))\n",
        "print(x)"
      ]
    },
    {
      "cell_type": "markdown",
      "metadata": {
        "id": "cTTdv4dWirwv"
      },
      "source": [
        "#### 23. Create a custom dtype that describes a color as four unsigned bytes (RGBA) (★☆☆) \n",
        "(**hint**: np.dtype)"
      ]
    },
    {
      "cell_type": "code",
      "execution_count": null,
      "metadata": {
        "collapsed": true,
        "id": "OknbRVEUirwv",
        "colab": {
          "base_uri": "https://localhost:8080/"
        },
        "outputId": "7d1fe4b0-9b4b-4334-d6be-4456e84eb0e4"
      },
      "outputs": [
        {
          "output_type": "stream",
          "name": "stderr",
          "text": [
            "/usr/local/lib/python3.7/dist-packages/ipykernel_launcher.py:2: FutureWarning: Passing (type, 1) or '1type' as a synonym of type is deprecated; in a future version of numpy, it will be understood as (type, (1,)) / '(1,)type'.\n",
            "  \n"
          ]
        }
      ],
      "source": [
        "import numpy as np\n",
        "color = np.dtype([(\"r\", np.ubyte, 1), (\"g\", np.ubyte, 1), (\"b\", np.ubyte, 1), (\"a\", np.ubyte, 1)])"
      ]
    },
    {
      "cell_type": "markdown",
      "metadata": {
        "id": "dcAay7Gpirwv"
      },
      "source": [
        "#### 24. Multiply a 5x3 matrix by a 3x2 matrix (real matrix product) (★☆☆) \n",
        "(**hint**: np.dot | @)"
      ]
    },
    {
      "cell_type": "code",
      "execution_count": null,
      "metadata": {
        "id": "VDzmC3Llirww",
        "colab": {
          "base_uri": "https://localhost:8080/"
        },
        "outputId": "03be24d2-cc5e-454a-f45d-bb77dface58e"
      },
      "outputs": [
        {
          "output_type": "stream",
          "name": "stdout",
          "text": [
            "[[3. 3.]\n",
            " [3. 3.]\n",
            " [3. 3.]\n",
            " [3. 3.]\n",
            " [3. 3.]]\n"
          ]
        }
      ],
      "source": [
        "import numpy as np\n",
        "x = np.dot(np.ones((5,3)), np.ones((3,2)))\n",
        "print(x)"
      ]
    },
    {
      "cell_type": "markdown",
      "metadata": {
        "id": "5mp9pbpJirww"
      },
      "source": [
        "#### 25. Given a 1D array, negate all elements which are between 3 and 8, in place. (★☆☆) \n",
        "(**hint**: >, <=)"
      ]
    },
    {
      "cell_type": "code",
      "execution_count": null,
      "metadata": {
        "id": "LcEDw2tMirww",
        "colab": {
          "base_uri": "https://localhost:8080/"
        },
        "outputId": "4e97cafa-eb4b-4e8b-ad19-42a1fca7c726"
      },
      "outputs": [
        {
          "output_type": "stream",
          "name": "stdout",
          "text": [
            "[ 0  1  2  3 -4 -5 -6 -7  8  9 10]\n"
          ]
        }
      ],
      "source": [
        "import numpy as np\n",
        "x = np.arange(11)\n",
        "x[(3 < x) & (x < 8)] *= -1\n",
        "print(x)"
      ]
    },
    {
      "cell_type": "markdown",
      "metadata": {
        "id": "RymBpXPairwx"
      },
      "source": [
        "#### 26. What is the output of the following script? (★☆☆) \n",
        "(**hint**: np.sum)"
      ]
    },
    {
      "cell_type": "markdown",
      "metadata": {
        "id": "VUFLH_yzirwx"
      },
      "source": [
        "```python\n",
        "# Author: Jake VanderPlas\n",
        "\n",
        "print(sum(range(5),-1))\n",
        "from numpy import *\n",
        "print(sum(range(5),-1))\n",
        "```"
      ]
    },
    {
      "cell_type": "code",
      "execution_count": null,
      "metadata": {
        "id": "qGbIgmImirwx",
        "colab": {
          "base_uri": "https://localhost:8080/"
        },
        "outputId": "2a5237ee-1e52-40dc-cfc6-cb472707639c"
      },
      "outputs": [
        {
          "output_type": "execute_result",
          "data": {
            "text/plain": [
              "10"
            ]
          },
          "metadata": {},
          "execution_count": 24
        }
      ],
      "source": [
        "9\n",
        "10"
      ]
    },
    {
      "cell_type": "markdown",
      "metadata": {
        "id": "HqESTLsKirwy"
      },
      "source": [
        "#### 27. Consider an integer vector Z, which of these expressions are legal? (★☆☆)"
      ]
    },
    {
      "cell_type": "markdown",
      "metadata": {
        "id": "LlKI-EmVirwy"
      },
      "source": [
        "```python\n",
        "Z**Z\n",
        "2 << Z >> 2\n",
        "Z <- Z\n",
        "1j*Z\n",
        "Z/1/1\n",
        "Z<Z>Z\n",
        "```"
      ]
    },
    {
      "cell_type": "code",
      "execution_count": 79,
      "metadata": {
        "id": "Pvd7Auybirwy"
      },
      "outputs": [],
      "source": [
        "import numpy as np\n",
        "Z = np.arange(10)\n",
        "print(Z**Z)\n",
        "print(2 << Z << 2)\n",
        "print(Z <- Z)\n",
        "print(1j*Z)\n",
        "print(Z/1/1)\n",
        "print(Z < Z > Z)"
      ]
    },
    {
      "cell_type": "markdown",
      "metadata": {
        "id": "apdRZF9Nirwz"
      },
      "source": [
        "#### 28. What are the result of the following expressions?"
      ]
    },
    {
      "cell_type": "markdown",
      "metadata": {
        "id": "w8L4daFmirwz"
      },
      "source": [
        "```python\n",
        "np.array(0) / np.array(0)\n",
        "np.array(0) // np.array(0)\n",
        "np.array([np.nan]).astype(int).astype(float)\n",
        "```"
      ]
    },
    {
      "cell_type": "code",
      "execution_count": 1,
      "metadata": {
        "id": "K1_Ra7HPirw0",
        "colab": {
          "base_uri": "https://localhost:8080/"
        },
        "outputId": "0644098c-e046-4f1c-d9b5-bff8023f175f"
      },
      "outputs": [
        {
          "output_type": "stream",
          "name": "stdout",
          "text": [
            "nan\n",
            "0\n",
            "[-9.22337204e+18]\n"
          ]
        },
        {
          "output_type": "stream",
          "name": "stderr",
          "text": [
            "/usr/local/lib/python3.7/dist-packages/ipykernel_launcher.py:2: RuntimeWarning: invalid value encountered in true_divide\n",
            "  \n",
            "/usr/local/lib/python3.7/dist-packages/ipykernel_launcher.py:3: RuntimeWarning: divide by zero encountered in floor_divide\n",
            "  This is separate from the ipykernel package so we can avoid doing imports until\n",
            "/usr/local/lib/python3.7/dist-packages/ipykernel_launcher.py:5: RuntimeWarning: invalid value encountered in true_divide\n",
            "  \"\"\"\n",
            "/usr/local/lib/python3.7/dist-packages/ipykernel_launcher.py:6: RuntimeWarning: divide by zero encountered in floor_divide\n",
            "  \n"
          ]
        }
      ],
      "source": [
        "import numpy as np\n",
        "np.array(0) / np.array(0)\n",
        "np.array(0) // np.array(0)\n",
        "np.array([np.nan]).astype(int).astype(float)\n",
        "print(np.array(0) / np.array(0))\n",
        "print(np.array(0) // np.array(0))\n",
        "print(np.array([np.nan]).astype(int).astype(float))"
      ]
    },
    {
      "cell_type": "markdown",
      "metadata": {
        "id": "FBKjqYsRirw0"
      },
      "source": [
        "#### 29. How to round away from zero a float array ? (★☆☆) \n",
        "(**hint**: np.uniform, np.copysign, np.ceil, np.abs)"
      ]
    },
    {
      "cell_type": "code",
      "execution_count": 2,
      "metadata": {
        "id": "n_CXPGYoirw1",
        "colab": {
          "base_uri": "https://localhost:8080/"
        },
        "outputId": "2e8ecb04-7157-468b-f682-f09cdcc8d241"
      },
      "outputs": [
        {
          "output_type": "stream",
          "name": "stdout",
          "text": [
            "[-10.   2.   3. -10.   4.  -7.   4.   2.  -3.  -8.]\n"
          ]
        }
      ],
      "source": [
        "import numpy as np\n",
        "Z = np.random.uniform(-10,+10,10)\n",
        "print (np.copysign(np.ceil(np.abs(Z)), Z))"
      ]
    },
    {
      "cell_type": "markdown",
      "metadata": {
        "id": "w9Z9gvsWirw1"
      },
      "source": [
        "#### 30. How to find common values between two arrays? (★☆☆) \n",
        "(**hint**: np.intersect1d)"
      ]
    },
    {
      "cell_type": "code",
      "execution_count": 3,
      "metadata": {
        "id": "Ad1FofAdirw1",
        "colab": {
          "base_uri": "https://localhost:8080/"
        },
        "outputId": "38466663-673b-4485-e170-6be4b04580b6"
      },
      "outputs": [
        {
          "output_type": "stream",
          "name": "stdout",
          "text": [
            "[0 2 6 8]\n"
          ]
        }
      ],
      "source": [
        "import numpy as np\n",
        "Z1 = np.random.randint(0,10,10)\n",
        "Z2 = np.random.randint(0,10,10)\n",
        "print(np.intersect1d(Z1,Z2))"
      ]
    },
    {
      "cell_type": "markdown",
      "metadata": {
        "id": "G8qjOdLOirw2"
      },
      "source": [
        "#### 31. How to ignore all numpy warnings (not recommended)? (★☆☆) \n",
        "(**hint**: np.seterr, np.errstate)"
      ]
    },
    {
      "cell_type": "code",
      "execution_count": 4,
      "metadata": {
        "id": "ICH-Purdirw2",
        "colab": {
          "base_uri": "https://localhost:8080/"
        },
        "outputId": "a4b11e98-28a2-4320-bc33-564f1dfad74f"
      },
      "outputs": [
        {
          "output_type": "stream",
          "name": "stdout",
          "text": [
            "(array([0, 1, 4]),)\n"
          ]
        }
      ],
      "source": [
        "import numpy as np\n",
        "# Suicide mode on\n",
        "defaults = np.seterr(all=\"ignore\")\n",
        "Z = np.ones(1) / 0\n",
        "# Back to sanity\n",
        "_ = np.seterr(**defaults)\n",
        "# Equivalently with a context manager\n",
        "nz = np.nonzero([1,2,0,0,4,0])\n",
        "print(nz)"
      ]
    },
    {
      "cell_type": "markdown",
      "metadata": {
        "id": "tXy7Gn0Cirw2"
      },
      "source": [
        "#### 32. Is the following expressions true? (★☆☆) \n",
        "(**hint**: imaginary number)"
      ]
    },
    {
      "cell_type": "markdown",
      "metadata": {
        "id": "wJSPrmibirw3"
      },
      "source": [
        "```python\n",
        "np.sqrt(-1) == np.emath.sqrt(-1)\n",
        "```"
      ]
    },
    {
      "cell_type": "code",
      "execution_count": 5,
      "metadata": {
        "id": "4Dtb35znirw3",
        "colab": {
          "base_uri": "https://localhost:8080/"
        },
        "outputId": "39e625d9-8267-404f-8a46-f50aff3b75b0"
      },
      "outputs": [
        {
          "output_type": "stream",
          "name": "stderr",
          "text": [
            "/usr/local/lib/python3.7/dist-packages/ipykernel_launcher.py:2: RuntimeWarning: invalid value encountered in sqrt\n",
            "  \n"
          ]
        },
        {
          "output_type": "execute_result",
          "data": {
            "text/plain": [
              "False"
            ]
          },
          "metadata": {},
          "execution_count": 5
        }
      ],
      "source": [
        "import numpy as np\n",
        "np.sqrt(-1) == np.emath.sqrt(-1)"
      ]
    },
    {
      "cell_type": "markdown",
      "metadata": {
        "id": "B3KgOE0zirw3"
      },
      "source": [
        "#### 33. How to get the dates of yesterday, today and tomorrow? (★☆☆) \n",
        "(**hint**: np.datetime64, np.timedelta64)"
      ]
    },
    {
      "cell_type": "code",
      "execution_count": 6,
      "metadata": {
        "collapsed": true,
        "id": "tLrZQ4S_irw4"
      },
      "outputs": [],
      "source": [
        "import numpy as np\n",
        "yesterday = np.datetime64('today', 'D') - np.timedelta64(1, 'D')\n",
        "today     = np.datetime64('today', 'D')\n",
        "tomorrow  = np.datetime64('today', 'D') + np.timedelta64(1, 'D')"
      ]
    },
    {
      "cell_type": "markdown",
      "metadata": {
        "id": "dZo_Ws9tirw4"
      },
      "source": [
        "#### 34. How to get all the dates corresponding to the month of July 2016? (★★☆) \n",
        "(**hint**: np.arange(dtype=datetime64\\['D'\\]))"
      ]
    },
    {
      "cell_type": "code",
      "execution_count": 7,
      "metadata": {
        "id": "Um490g7cirw4",
        "colab": {
          "base_uri": "https://localhost:8080/"
        },
        "outputId": "05148744-3115-4d73-bcc5-c89440f11e00"
      },
      "outputs": [
        {
          "output_type": "stream",
          "name": "stdout",
          "text": [
            "['2016-07-01' '2016-07-02' '2016-07-03' '2016-07-04' '2016-07-05'\n",
            " '2016-07-06' '2016-07-07' '2016-07-08' '2016-07-09' '2016-07-10'\n",
            " '2016-07-11' '2016-07-12' '2016-07-13' '2016-07-14' '2016-07-15'\n",
            " '2016-07-16' '2016-07-17' '2016-07-18' '2016-07-19' '2016-07-20'\n",
            " '2016-07-21' '2016-07-22' '2016-07-23' '2016-07-24' '2016-07-25'\n",
            " '2016-07-26' '2016-07-27' '2016-07-28' '2016-07-29' '2016-07-30'\n",
            " '2016-07-31']\n"
          ]
        }
      ],
      "source": [
        "import numpy as np\n",
        "Z = np.arange('2016-07', '2016-08', dtype='datetime64[D]')\n",
        "print(Z)"
      ]
    },
    {
      "cell_type": "markdown",
      "metadata": {
        "id": "cPrMdPepirw5"
      },
      "source": [
        "#### 35. How to compute ((A+B)\\*(-A/2)) in place (without copy)? (★★☆) \n",
        "(**hint**: np.add(out=), np.negative(out=), np.multiply(out=), np.divide(out=))"
      ]
    },
    {
      "cell_type": "code",
      "execution_count": 8,
      "metadata": {
        "id": "G9E2LNwairw5",
        "colab": {
          "base_uri": "https://localhost:8080/"
        },
        "outputId": "b43e35c0-7a80-443a-89d5-d29ac0ffa43e"
      },
      "outputs": [
        {
          "output_type": "execute_result",
          "data": {
            "text/plain": [
              "array([-1.5, -1.5, -1.5])"
            ]
          },
          "metadata": {},
          "execution_count": 8
        }
      ],
      "source": [
        "import numpy as np\n",
        "A = np.ones(3)*1\n",
        "B = np.ones(3)*2\n",
        "C = np.ones(3)*3\n",
        "np.add(A,B,out=B)\n",
        "np.divide(A,2,out=A)\n",
        "np.negative(A,out=A)\n",
        "np.multiply(A,B,out=A)"
      ]
    },
    {
      "cell_type": "markdown",
      "metadata": {
        "id": "BLkzNik-irw5"
      },
      "source": [
        "#### 36. Extract the integer part of a random array using 5 different methods (★★☆) \n",
        "(**hint**: %, np.floor, np.ceil, astype, np.trunc)"
      ]
    },
    {
      "cell_type": "code",
      "execution_count": 9,
      "metadata": {
        "id": "igkoK5mVirw6",
        "colab": {
          "base_uri": "https://localhost:8080/"
        },
        "outputId": "d34a19fc-dc0f-4ea6-a302-277aafbafc49"
      },
      "outputs": [
        {
          "output_type": "stream",
          "name": "stdout",
          "text": [
            "[4. 0. 4. 0. 5. 4. 1. 8. 8. 8.]\n",
            "[4. 0. 4. 0. 5. 4. 1. 8. 8. 8.]\n",
            "[4. 0. 4. 0. 5. 4. 1. 8. 8. 8.]\n",
            "[4 0 4 0 5 4 1 8 8 8]\n",
            "[4. 0. 4. 0. 5. 4. 1. 8. 8. 8.]\n"
          ]
        }
      ],
      "source": [
        "import numpy as np\n",
        "Z = np.random.uniform(0,10,10)\n",
        "print (Z - Z%1)\n",
        "print (np.floor(Z))\n",
        "print (np.ceil(Z)-1)\n",
        "print (Z.astype(int))\n",
        "print (np.trunc(Z))"
      ]
    },
    {
      "cell_type": "markdown",
      "metadata": {
        "id": "7Y3ub33rirw6"
      },
      "source": [
        "#### 37. Create a 5x5 matrix with row values ranging from 0 to 4 (★★☆) \n",
        "(**hint**: np.arange)"
      ]
    },
    {
      "cell_type": "code",
      "execution_count": 10,
      "metadata": {
        "id": "B8qsfZ1Yirw6",
        "colab": {
          "base_uri": "https://localhost:8080/"
        },
        "outputId": "b4a1929b-124a-47b2-978a-16d0d70eef2e"
      },
      "outputs": [
        {
          "output_type": "stream",
          "name": "stdout",
          "text": [
            "[[0. 1. 2. 3. 4.]\n",
            " [0. 1. 2. 3. 4.]\n",
            " [0. 1. 2. 3. 4.]\n",
            " [0. 1. 2. 3. 4.]\n",
            " [0. 1. 2. 3. 4.]]\n"
          ]
        }
      ],
      "source": [
        "import numpy as np\n",
        "Z = np.zeros((5,5))\n",
        "Z += np.arange(5)\n",
        "print(Z)"
      ]
    },
    {
      "cell_type": "markdown",
      "metadata": {
        "id": "SAiYJbXSirw7"
      },
      "source": [
        "#### 38. Consider a generator function that generates 10 integers and use it to build an array (★☆☆) \n",
        "(**hint**: np.fromiter)"
      ]
    },
    {
      "cell_type": "code",
      "execution_count": 11,
      "metadata": {
        "id": "vqyrZbHVirw7",
        "colab": {
          "base_uri": "https://localhost:8080/"
        },
        "outputId": "8f157389-8184-4e8a-9a4c-b22c6d742b58"
      },
      "outputs": [
        {
          "output_type": "stream",
          "name": "stdout",
          "text": [
            "[0. 1. 2. 3. 4. 5. 6. 7. 8. 9.]\n"
          ]
        }
      ],
      "source": [
        "import numpy as np\n",
        "def generate():\n",
        "    for x in range(10):\n",
        "        yield x\n",
        "Z = np.fromiter(generate(),dtype=float,count=-1)\n",
        "print(Z)"
      ]
    },
    {
      "cell_type": "markdown",
      "metadata": {
        "id": "iprpxKhCirw7"
      },
      "source": [
        "#### 39. Create a vector of size 10 with values ranging from 0 to 1, both excluded (★★☆) \n",
        "(**hint**: np.linspace)"
      ]
    },
    {
      "cell_type": "code",
      "execution_count": 12,
      "metadata": {
        "id": "KgTFJq-6irw8",
        "colab": {
          "base_uri": "https://localhost:8080/"
        },
        "outputId": "d3f7d28b-abe2-4821-addd-f4c2d93b99d0"
      },
      "outputs": [
        {
          "output_type": "stream",
          "name": "stdout",
          "text": [
            "[0.09090909 0.18181818 0.27272727 0.36363636 0.45454545 0.54545455\n",
            " 0.63636364 0.72727273 0.81818182 0.90909091]\n"
          ]
        }
      ],
      "source": [
        "import numpy as np\n",
        "Z = np.linspace(0,1,11,endpoint=False)[1:]\n",
        "print(Z)"
      ]
    },
    {
      "cell_type": "markdown",
      "metadata": {
        "id": "hX0tBKXMirw8"
      },
      "source": [
        "#### 40. Create a random vector of size 10 and sort it (★★☆) \n",
        "(**hint**: sort)"
      ]
    },
    {
      "cell_type": "code",
      "execution_count": 13,
      "metadata": {
        "id": "bp3oeFJuirw8",
        "colab": {
          "base_uri": "https://localhost:8080/"
        },
        "outputId": "42d248bd-e221-4312-dbcb-59f4369f2530"
      },
      "outputs": [
        {
          "output_type": "stream",
          "name": "stdout",
          "text": [
            "[0.04239684 0.21392199 0.30612597 0.31111446 0.48182041 0.54138274\n",
            " 0.60094923 0.63193566 0.67268794 0.69212135]\n"
          ]
        }
      ],
      "source": [
        "import numpy as np\n",
        "Z = np.random.random(10)\n",
        "Z.sort()\n",
        "print(Z)"
      ]
    },
    {
      "cell_type": "markdown",
      "metadata": {
        "id": "JdBDbSbUirw9"
      },
      "source": [
        "#### 41. How to sum a small array faster than np.sum? (★★☆) \n",
        "(**hint**: np.add.reduce)"
      ]
    },
    {
      "cell_type": "code",
      "execution_count": 14,
      "metadata": {
        "id": "Bb6SyB9dirw9",
        "colab": {
          "base_uri": "https://localhost:8080/"
        },
        "outputId": "c027951c-eb2d-4096-f2a9-4bdbf79642fc"
      },
      "outputs": [
        {
          "output_type": "execute_result",
          "data": {
            "text/plain": [
              "45"
            ]
          },
          "metadata": {},
          "execution_count": 14
        }
      ],
      "source": [
        "import numpy as np\n",
        "Z = np.arange(10)\n",
        "np.add.reduce(Z)"
      ]
    },
    {
      "cell_type": "markdown",
      "metadata": {
        "id": "WmLmPY_Cirw9"
      },
      "source": [
        "#### 42. Consider two random array A and B, check if they are equal (★★☆) \n",
        "(**hint**: np.allclose, np.array\\_equal)"
      ]
    },
    {
      "cell_type": "code",
      "execution_count": 15,
      "metadata": {
        "id": "hTAckQmpirw-",
        "colab": {
          "base_uri": "https://localhost:8080/"
        },
        "outputId": "8579a0b3-1315-4695-f89a-ab992318a781"
      },
      "outputs": [
        {
          "output_type": "stream",
          "name": "stdout",
          "text": [
            "False\n",
            "False\n"
          ]
        }
      ],
      "source": [
        "import numpy as np\n",
        "A = np.random.randint(0,2,5)\n",
        "B = np.random.randint(0,2,5)\n",
        "# Assuming identical shape of the arrays and a tolerance for the comparison of values\n",
        "equal = np.allclose(A,B)\n",
        "print(equal)\n",
        "# Checking both the shape and the element values, no tolerance (values have to be exactly equal)\n",
        "equal = np.array_equal(A,B)\n",
        "print(equal)"
      ]
    },
    {
      "cell_type": "markdown",
      "metadata": {
        "id": "Q_4KmqMoirw-"
      },
      "source": [
        "#### 43. Make an array immutable (read-only) (★★☆) \n",
        "(**hint**: flags.writeable)"
      ]
    },
    {
      "cell_type": "code",
      "execution_count": 79,
      "metadata": {
        "id": "ZtXzHcveirw-"
      },
      "outputs": [],
      "source": [
        "import numpy as np\n",
        "Z = np.zeros(10)\n",
        "Z.flags.writeable = False\n",
        "Z[0] =  1"
      ]
    },
    {
      "cell_type": "markdown",
      "metadata": {
        "id": "xD1z8w-tirw-"
      },
      "source": [
        "#### 44. Consider a random 10x2 matrix representing cartesian coordinates, convert them to polar coordinates (★★☆) \n",
        "(**hint**: np.sqrt, np.arctan2)"
      ]
    },
    {
      "cell_type": "code",
      "execution_count": 21,
      "metadata": {
        "id": "WzlSumCBirw_",
        "colab": {
          "base_uri": "https://localhost:8080/"
        },
        "outputId": "4446005f-193f-478e-fcd7-ddce1f3dd7d9"
      },
      "outputs": [
        {
          "output_type": "stream",
          "name": "stdout",
          "text": [
            "[0.35230354 0.74363994 0.50659371 0.57169485 1.17201534 0.86139942\n",
            " 0.97609093 1.00904637 0.22566155 0.79191181]\n",
            "[0.94372274 0.21974189 1.39755721 1.43841954 0.86438966 0.9934458\n",
            " 0.59359004 1.05235734 0.94919038 0.76146391]\n"
          ]
        }
      ],
      "source": [
        "import numpy as np\n",
        "Z = np.random.random((10,2))\n",
        "X,Y = Z[:,0], Z[:,1]\n",
        "R = np.sqrt(X**2+Y**2)\n",
        "T = np.arctan2(Y,X)\n",
        "print(R)\n",
        "print(T)"
      ]
    },
    {
      "cell_type": "markdown",
      "metadata": {
        "id": "qxqdH2O7irw_"
      },
      "source": [
        "#### 45. Create random vector of size 10 and replace the maximum value by 0 (★★☆) \n",
        "(**hint**: argmax)"
      ]
    },
    {
      "cell_type": "code",
      "execution_count": 22,
      "metadata": {
        "id": "W7Hcj7-SirxA",
        "colab": {
          "base_uri": "https://localhost:8080/"
        },
        "outputId": "6421b9b0-9441-4c03-88e9-072f288360b5"
      },
      "outputs": [
        {
          "output_type": "stream",
          "name": "stdout",
          "text": [
            "[0.4773514  0.16627798 0.90322989 0.19222553 0.92073534 0.76277015\n",
            " 0.2914858  0.64813473 0.         0.03918129]\n"
          ]
        }
      ],
      "source": [
        "import numpy as np\n",
        "Z = np.random.random(10)\n",
        "Z[Z.argmax()] = 0\n",
        "print(Z)"
      ]
    },
    {
      "cell_type": "markdown",
      "metadata": {
        "id": "eZoT0oCeirxA"
      },
      "source": [
        "#### 46. Create a structured array with `x` and `y` coordinates covering the \\[0,1\\]x\\[0,1\\] area (★★☆) \n",
        "(**hint**: np.meshgrid)"
      ]
    },
    {
      "cell_type": "code",
      "execution_count": 23,
      "metadata": {
        "id": "Do8vEPlqirxA",
        "colab": {
          "base_uri": "https://localhost:8080/"
        },
        "outputId": "b330bca4-6afb-4916-e2dc-7b5c6262452c"
      },
      "outputs": [
        {
          "output_type": "stream",
          "name": "stdout",
          "text": [
            "[[(0.  , 0.  ) (0.25, 0.  ) (0.5 , 0.  ) (0.75, 0.  ) (1.  , 0.  )]\n",
            " [(0.  , 0.25) (0.25, 0.25) (0.5 , 0.25) (0.75, 0.25) (1.  , 0.25)]\n",
            " [(0.  , 0.5 ) (0.25, 0.5 ) (0.5 , 0.5 ) (0.75, 0.5 ) (1.  , 0.5 )]\n",
            " [(0.  , 0.75) (0.25, 0.75) (0.5 , 0.75) (0.75, 0.75) (1.  , 0.75)]\n",
            " [(0.  , 1.  ) (0.25, 1.  ) (0.5 , 1.  ) (0.75, 1.  ) (1.  , 1.  )]]\n"
          ]
        }
      ],
      "source": [
        "import numpy as np\n",
        "Z = np.zeros((5,5), [('x',float),('y',float)])\n",
        "Z['x'], Z['y'] = np.meshgrid(np.linspace(0,1,5),\n",
        "                             np.linspace(0,1,5))\n",
        "print(Z)"
      ]
    },
    {
      "cell_type": "markdown",
      "metadata": {
        "id": "Gt1lPZZxirxB"
      },
      "source": [
        "####  47. Given two arrays, X and Y, construct the Cauchy matrix C (Cij =1/(xi - yj)) \n",
        "(**hint**: np.subtract.outer)"
      ]
    },
    {
      "cell_type": "code",
      "execution_count": 24,
      "metadata": {
        "id": "smtCHasVirxB",
        "colab": {
          "base_uri": "https://localhost:8080/"
        },
        "outputId": "9511e49f-3d28-4d16-92c5-59257d60288c"
      },
      "outputs": [
        {
          "output_type": "stream",
          "name": "stdout",
          "text": [
            "3638.163637117973\n"
          ]
        }
      ],
      "source": [
        "import numpy as np\n",
        "X = np.arange(8)\n",
        "Y = X + 0.5\n",
        "C = 1.0 / np.subtract.outer(X, Y)\n",
        "print(np.linalg.det(C))"
      ]
    },
    {
      "cell_type": "markdown",
      "metadata": {
        "id": "T3LyvKQYirxB"
      },
      "source": [
        "#### 48. Print the minimum and maximum representable value for each numpy scalar type (★★☆) \n",
        "(**hint**: np.iinfo, np.finfo, eps)"
      ]
    },
    {
      "cell_type": "code",
      "execution_count": 25,
      "metadata": {
        "id": "AhR9AAtdirxB",
        "colab": {
          "base_uri": "https://localhost:8080/"
        },
        "outputId": "574923d8-b2ee-482e-fc69-01dd87e34fe6"
      },
      "outputs": [
        {
          "output_type": "stream",
          "name": "stdout",
          "text": [
            "-128\n",
            "127\n",
            "-2147483648\n",
            "2147483647\n",
            "-9223372036854775808\n",
            "9223372036854775807\n",
            "-3.4028235e+38\n",
            "3.4028235e+38\n",
            "1.1920929e-07\n",
            "-1.7976931348623157e+308\n",
            "1.7976931348623157e+308\n",
            "2.220446049250313e-16\n"
          ]
        }
      ],
      "source": [
        "import numpy as np\n",
        "for dtype in [np.int8, np.int32, np.int64]:\n",
        "   print(np.iinfo(dtype).min)\n",
        "   print(np.iinfo(dtype).max)\n",
        "for dtype in [np.float32, np.float64]:\n",
        "   print(np.finfo(dtype).min)\n",
        "   print(np.finfo(dtype).max)\n",
        "   print(np.finfo(dtype).eps)"
      ]
    },
    {
      "cell_type": "markdown",
      "metadata": {
        "id": "tzVjMyMDirxC"
      },
      "source": [
        "#### 49. How to print all the values of an array? (★★☆) \n",
        "(**hint**: np.set\\_printoptions)"
      ]
    },
    {
      "cell_type": "code",
      "execution_count": 26,
      "metadata": {
        "id": "aFBOCd4PirxC"
      },
      "outputs": [],
      "source": [
        "import numpy as np\n",
        "np.set_printoptions(threshold=np.nan)\n",
        "Z = np.zeros((16,16))\n",
        "print(Z)"
      ]
    },
    {
      "cell_type": "markdown",
      "metadata": {
        "id": "etJXQPvEirxC"
      },
      "source": [
        "#### 50. How to find the closest value (to a given scalar) in a vector? (★★☆) \n",
        "(**hint**: argmin)"
      ]
    },
    {
      "cell_type": "code",
      "execution_count": 27,
      "metadata": {
        "id": "nVavU_43irxD",
        "colab": {
          "base_uri": "https://localhost:8080/"
        },
        "outputId": "169b8e9d-0bf9-496d-b3a8-249af4fb3368"
      },
      "outputs": [
        {
          "output_type": "stream",
          "name": "stdout",
          "text": [
            "49\n"
          ]
        }
      ],
      "source": [
        "import numpy as np\n",
        "Z = np.arange(100)\n",
        "v = np.random.uniform(0,100)\n",
        "index = (np.abs(Z-v)).argmin()\n",
        "print(Z[index])"
      ]
    },
    {
      "cell_type": "markdown",
      "metadata": {
        "id": "fGxJ7LbOirxD"
      },
      "source": [
        "#### 51. Create a structured array representing a position (x,y) and a color (r,g,b) (★★☆) \n",
        "(**hint**: dtype)"
      ]
    },
    {
      "cell_type": "code",
      "execution_count": 28,
      "metadata": {
        "id": "foLl4hHoirxD",
        "colab": {
          "base_uri": "https://localhost:8080/"
        },
        "outputId": "3b6cbb23-af15-430d-9aeb-7d589c12207a"
      },
      "outputs": [
        {
          "output_type": "stream",
          "name": "stdout",
          "text": [
            "[((0., 0.), (0., 0., 0.)) ((0., 0.), (0., 0., 0.))\n",
            " ((0., 0.), (0., 0., 0.)) ((0., 0.), (0., 0., 0.))\n",
            " ((0., 0.), (0., 0., 0.)) ((0., 0.), (0., 0., 0.))\n",
            " ((0., 0.), (0., 0., 0.)) ((0., 0.), (0., 0., 0.))\n",
            " ((0., 0.), (0., 0., 0.)) ((0., 0.), (0., 0., 0.))]\n"
          ]
        },
        {
          "output_type": "stream",
          "name": "stderr",
          "text": [
            "/usr/local/lib/python3.7/dist-packages/ipykernel_launcher.py:6: FutureWarning: Passing (type, 1) or '1type' as a synonym of type is deprecated; in a future version of numpy, it will be understood as (type, (1,)) / '(1,)type'.\n",
            "  \n"
          ]
        }
      ],
      "source": [
        "import numpy as np\n",
        "Z = np.zeros(10, [ ('position', [ ('x', float, 1),\n",
        "                                  ('y', float, 1)]),\n",
        "                   ('color',    [ ('r', float, 1),\n",
        "                                  ('g', float, 1),\n",
        "                                  ('b', float, 1)])])\n",
        "print(Z)"
      ]
    },
    {
      "cell_type": "markdown",
      "metadata": {
        "id": "CSUQnRBQirxE"
      },
      "source": [
        "#### 52. Consider a random vector with shape (100,2) representing coordinates, find point by point distances (★★☆) \n",
        "(**hint**: np.atleast\\_2d, T, np.sqrt)"
      ]
    },
    {
      "cell_type": "code",
      "execution_count": 29,
      "metadata": {
        "id": "Jc3HEcGhirxF",
        "colab": {
          "base_uri": "https://localhost:8080/"
        },
        "outputId": "6b5d3a85-7f5e-4608-9094-b7c0da8f6140"
      },
      "outputs": [
        {
          "output_type": "stream",
          "name": "stdout",
          "text": [
            "[[0.         0.20642476 0.9407266  0.69774649 0.52513349 0.21353144\n",
            "  0.87737832 1.10985141 0.36337696 1.04172905]\n",
            " [0.20642476 0.         0.73527677 0.50544738 0.47338629 0.13130239\n",
            "  0.6720009  0.90558    0.15924073 0.84506239]\n",
            " [0.9407266  0.73527677 0.         0.30499342 0.89944588 0.79296766\n",
            "  0.06338071 0.27804675 0.58727834 0.37132588]\n",
            " [0.69774649 0.50544738 0.30499342 0.         0.81442744 0.599071\n",
            "  0.25168679 0.56594185 0.39278131 0.60404914]\n",
            " [0.52513349 0.47338629 0.89944588 0.81442744 0.         0.35077278\n",
            "  0.84819626 0.9318564  0.45708557 0.7961517 ]\n",
            " [0.21353144 0.13130239 0.79296766 0.599071   0.35077278 0.\n",
            "  0.73109326 0.92869079 0.21043867 0.84506233]\n",
            " [0.87737832 0.6720009  0.06338071 0.25168679 0.84819626 0.73109326\n",
            "  0.         0.31687314 0.52463715 0.38411859]\n",
            " [1.10985141 0.90558    0.27804675 0.56594185 0.9318564  0.92869079\n",
            "  0.31687314 0.         0.74675498 0.17152812]\n",
            " [0.36337696 0.15924073 0.58727834 0.39278131 0.45708557 0.21043867\n",
            "  0.52463715 0.74675498 0.         0.68718726]\n",
            " [1.04172905 0.84506239 0.37132588 0.60404914 0.7961517  0.84506233\n",
            "  0.38411859 0.17152812 0.68718726 0.        ]]\n",
            "[[0.         0.66889923 0.80654987 0.5742204  0.03268602 0.12756927\n",
            "  0.90525103 0.75083395 0.83249376 0.49988852]\n",
            " [0.66889923 0.         0.28655766 0.37815403 0.6723255  0.62890123\n",
            "  0.30611204 0.3142704  0.20976695 0.19555414]\n",
            " [0.80654987 0.28655766 0.         0.29003306 0.79867219 0.72511845\n",
            "  0.51018974 0.59098817 0.42214717 0.32581269]\n",
            " [0.5742204  0.37815403 0.29003306 0.         0.55873105 0.47104636\n",
            "  0.68068082 0.67111839 0.58336163 0.24006912]\n",
            " [0.03268602 0.6723255  0.79867219 0.55873105 0.         0.09995481\n",
            "  0.91640715 0.76738251 0.84139357 0.4980297 ]\n",
            " [0.12756927 0.62890123 0.72511845 0.47104636 0.09995481 0.\n",
            "  0.89379909 0.76416312 0.81234279 0.44286151]\n",
            " [0.90525103 0.30611204 0.51018974 0.68068082 0.91640715 0.89379909\n",
            "  0.         0.21448879 0.09731978 0.49329089]\n",
            " [0.75083395 0.3142704  0.59098817 0.67111839 0.76738251 0.76416312\n",
            "  0.21448879 0.         0.21721566 0.44141224]\n",
            " [0.83249376 0.20976695 0.42214717 0.58336163 0.84139357 0.81234279\n",
            "  0.09731978 0.21721566 0.         0.4001157 ]\n",
            " [0.49988852 0.19555414 0.32581269 0.24006912 0.4980297  0.44286151\n",
            "  0.49329089 0.44141224 0.4001157  0.        ]]\n"
          ]
        }
      ],
      "source": [
        "import numpy as np\n",
        "Z = np.random.random((10,2))\n",
        "X,Y = np.atleast_2d(Z[:,0], Z[:,1])\n",
        "D = np.sqrt( (X-X.T)**2 + (Y-Y.T)**2)\n",
        "print(D)\n",
        "# Much faster with scipy\n",
        "import scipy\n",
        "# Thanks Gavin Heverly-Coulson (#issue 1)\n",
        "import scipy.spatial\n",
        "Z = np.random.random((10,2))\n",
        "D = scipy.spatial.distance.cdist(Z,Z)\n",
        "print(D)"
      ]
    },
    {
      "cell_type": "markdown",
      "metadata": {
        "id": "LkijLCOVirxF"
      },
      "source": [
        "#### 53. How to convert a float (32 bits) array into an integer (32 bits) in place? \n",
        "(**hint**: astype(copy=False))"
      ]
    },
    {
      "cell_type": "code",
      "execution_count": 30,
      "metadata": {
        "id": "NyXFkhSTirxG",
        "colab": {
          "base_uri": "https://localhost:8080/"
        },
        "outputId": "042ebd8d-3c18-428b-9e0d-39b5a3452376"
      },
      "outputs": [
        {
          "output_type": "stream",
          "name": "stdout",
          "text": [
            "[72 92 41  6 62 26 47 36 97 35]\n"
          ]
        }
      ],
      "source": [
        "import numpy as np\n",
        "Z = (np.random.rand(10)*100).astype(np.float32)\n",
        "Y = Z.view(np.int32)\n",
        "Y[:] = Z\n",
        "print(Y)"
      ]
    },
    {
      "cell_type": "markdown",
      "metadata": {
        "id": "U_1cZa2AirxG"
      },
      "source": [
        "#### 54. How to read the following file? (★★☆) \n",
        "(**hint**: np.genfromtxt)"
      ]
    },
    {
      "cell_type": "markdown",
      "metadata": {
        "id": "NhZpMYpnirxG"
      },
      "source": [
        "```\n",
        "1, 2, 3, 4, 5\n",
        "6,  ,  , 7, 8\n",
        " ,  , 9,10,11\n",
        "```"
      ]
    },
    {
      "cell_type": "code",
      "execution_count": 33,
      "metadata": {
        "id": "gWybcoouirxH",
        "colab": {
          "base_uri": "https://localhost:8080/"
        },
        "outputId": "7b8e9e5e-3de2-45d2-d8e1-5a633f3299af"
      },
      "outputs": [
        {
          "output_type": "stream",
          "name": "stdout",
          "text": [
            "[[ 1  2  3  4  5]\n",
            " [ 6 -1 -1  7  8]\n",
            " [-1 -1  9 10 11]]\n"
          ]
        },
        {
          "output_type": "stream",
          "name": "stderr",
          "text": [
            "/usr/local/lib/python3.7/dist-packages/ipykernel_launcher.py:10: DeprecationWarning: `np.int` is a deprecated alias for the builtin `int`. To silence this warning, use `int` by itself. Doing this will not modify any behavior and is safe. When replacing `np.int`, you may wish to use e.g. `np.int64` or `np.int32` to specify the precision. If you wish to review your current use, check the release note link for additional information.\n",
            "Deprecated in NumPy 1.20; for more details and guidance: https://numpy.org/devdocs/release/1.20.0-notes.html#deprecations\n",
            "  # Remove the CWD from sys.path while we load stuff.\n"
          ]
        }
      ],
      "source": [
        "import numpy as np\n",
        "1, 2, 3, 4, 5\n",
        "6, 7, 8, 9,10,11\n",
        "from io import StringIO\n",
        "# Fake file\n",
        "s = StringIO('''1, 2, 3, 4, 5\n",
        "                6,  ,  , 7, 8\n",
        "                 ,  , 9,10,11\n",
        "''')\n",
        "Z = np.genfromtxt(s, delimiter=\",\", dtype=np.int)\n",
        "print(Z)"
      ]
    },
    {
      "cell_type": "markdown",
      "metadata": {
        "id": "ZGeQqe2nirxH"
      },
      "source": [
        "#### 55. What is the equivalent of enumerate for numpy arrays? (★★☆) \n",
        "(**hint**: np.ndenumerate, np.ndindex)"
      ]
    },
    {
      "cell_type": "code",
      "execution_count": 34,
      "metadata": {
        "id": "44NPTbU4irxH",
        "colab": {
          "base_uri": "https://localhost:8080/"
        },
        "outputId": "7490b433-f926-467b-cbb5-a1599e092323"
      },
      "outputs": [
        {
          "output_type": "stream",
          "name": "stdout",
          "text": [
            "(0, 0) 0\n",
            "(0, 1) 1\n",
            "(0, 2) 2\n",
            "(1, 0) 3\n",
            "(1, 1) 4\n",
            "(1, 2) 5\n",
            "(2, 0) 6\n",
            "(2, 1) 7\n",
            "(2, 2) 8\n",
            "(0, 0) 0\n",
            "(0, 1) 1\n",
            "(0, 2) 2\n",
            "(1, 0) 3\n",
            "(1, 1) 4\n",
            "(1, 2) 5\n",
            "(2, 0) 6\n",
            "(2, 1) 7\n",
            "(2, 2) 8\n"
          ]
        }
      ],
      "source": [
        "import numpy as np\n",
        "Z = np.arange(9).reshape(3,3)\n",
        "for index, value in np.ndenumerate(Z):\n",
        "    print(index, value)\n",
        "for index in np.ndindex(Z.shape):\n",
        "    print(index, Z[index])"
      ]
    },
    {
      "cell_type": "markdown",
      "metadata": {
        "id": "_WYfgTgTirxI"
      },
      "source": [
        "#### 56. Generate a generic 2D Gaussian-like array (★★☆) \n",
        "(**hint**: np.meshgrid, np.exp)"
      ]
    },
    {
      "cell_type": "code",
      "execution_count": 35,
      "metadata": {
        "id": "wHj6_UqtirxI",
        "colab": {
          "base_uri": "https://localhost:8080/"
        },
        "outputId": "7a372f4c-fa72-4a76-9d49-a050b8655599"
      },
      "outputs": [
        {
          "output_type": "stream",
          "name": "stdout",
          "text": [
            "[[0.36787944 0.44822088 0.51979489 0.57375342 0.60279818 0.60279818\n",
            "  0.57375342 0.51979489 0.44822088 0.36787944]\n",
            " [0.44822088 0.54610814 0.63331324 0.69905581 0.73444367 0.73444367\n",
            "  0.69905581 0.63331324 0.54610814 0.44822088]\n",
            " [0.51979489 0.63331324 0.73444367 0.81068432 0.85172308 0.85172308\n",
            "  0.81068432 0.73444367 0.63331324 0.51979489]\n",
            " [0.57375342 0.69905581 0.81068432 0.89483932 0.9401382  0.9401382\n",
            "  0.89483932 0.81068432 0.69905581 0.57375342]\n",
            " [0.60279818 0.73444367 0.85172308 0.9401382  0.98773022 0.98773022\n",
            "  0.9401382  0.85172308 0.73444367 0.60279818]\n",
            " [0.60279818 0.73444367 0.85172308 0.9401382  0.98773022 0.98773022\n",
            "  0.9401382  0.85172308 0.73444367 0.60279818]\n",
            " [0.57375342 0.69905581 0.81068432 0.89483932 0.9401382  0.9401382\n",
            "  0.89483932 0.81068432 0.69905581 0.57375342]\n",
            " [0.51979489 0.63331324 0.73444367 0.81068432 0.85172308 0.85172308\n",
            "  0.81068432 0.73444367 0.63331324 0.51979489]\n",
            " [0.44822088 0.54610814 0.63331324 0.69905581 0.73444367 0.73444367\n",
            "  0.69905581 0.63331324 0.54610814 0.44822088]\n",
            " [0.36787944 0.44822088 0.51979489 0.57375342 0.60279818 0.60279818\n",
            "  0.57375342 0.51979489 0.44822088 0.36787944]]\n"
          ]
        }
      ],
      "source": [
        "import numpy as np\n",
        "X, Y = np.meshgrid(np.linspace(-1,1,10), np.linspace(-1,1,10))\n",
        "D = np.sqrt(X*X+Y*Y)\n",
        "sigma, mu = 1.0, 0.0\n",
        "G = np.exp(-( (D-mu)**2 / ( 2.0 * sigma**2 ) ) )\n",
        "print(G)"
      ]
    },
    {
      "cell_type": "markdown",
      "metadata": {
        "id": "QQYpCzokirxI"
      },
      "source": [
        "#### 57. How to randomly place p elements in a 2D array? (★★☆) \n",
        "(**hint**: np.put, np.random.choice)"
      ]
    },
    {
      "cell_type": "code",
      "execution_count": 36,
      "metadata": {
        "id": "uYvfnEKeirxJ",
        "colab": {
          "base_uri": "https://localhost:8080/"
        },
        "outputId": "f77ec856-4eb6-4c6b-f7bf-2790a74974b4"
      },
      "outputs": [
        {
          "output_type": "stream",
          "name": "stdout",
          "text": [
            "[[0. 0. 0. 0. 0. 0. 0. 0. 1. 0.]\n",
            " [0. 0. 0. 0. 0. 0. 0. 0. 0. 0.]\n",
            " [0. 0. 0. 1. 0. 0. 0. 0. 0. 0.]\n",
            " [0. 0. 0. 0. 0. 0. 0. 0. 0. 0.]\n",
            " [0. 0. 0. 0. 0. 0. 0. 0. 0. 0.]\n",
            " [0. 0. 0. 0. 0. 0. 0. 1. 0. 0.]\n",
            " [0. 0. 0. 0. 0. 0. 0. 0. 0. 0.]\n",
            " [0. 0. 0. 0. 0. 0. 0. 0. 0. 0.]\n",
            " [0. 0. 0. 0. 0. 0. 0. 0. 0. 0.]\n",
            " [0. 0. 0. 0. 0. 0. 0. 0. 0. 0.]]\n"
          ]
        }
      ],
      "source": [
        "import numpy as np\n",
        "n = 10\n",
        "p = 3\n",
        "Z = np.zeros((n,n))\n",
        "np.put(Z, np.random.choice(range(n*n), p, replace=False),1)\n",
        "print(Z)"
      ]
    },
    {
      "cell_type": "markdown",
      "metadata": {
        "id": "Oy7M5FkrirxJ"
      },
      "source": [
        "#### 58. Subtract the mean of each row of a matrix (★★☆) \n",
        "(**hint**: mean(axis=,keepdims=))"
      ]
    },
    {
      "cell_type": "code",
      "execution_count": 37,
      "metadata": {
        "id": "Wc7wZS6UirxJ",
        "colab": {
          "base_uri": "https://localhost:8080/"
        },
        "outputId": "d6d2b103-a6d7-4feb-8ee4-5b7c3f8b0223"
      },
      "outputs": [
        {
          "output_type": "stream",
          "name": "stdout",
          "text": [
            "[[ 0.34499285 -0.3404719  -0.28014807  0.0335265  -0.01527849 -0.17946205\n",
            "   0.43458979 -0.12378718  0.15186528 -0.02582673]\n",
            " [-0.12131586  0.19306868  0.54246577  0.30423164  0.33253158 -0.28631689\n",
            "  -0.04934431 -0.26281613 -0.32186348 -0.33064101]\n",
            " [ 0.40524375  0.02764954 -0.25298057  0.02108925  0.09372386 -0.1294975\n",
            "   0.4761503  -0.2770205   0.06477514 -0.42913327]\n",
            " [-0.49922108  0.29143037 -0.48121622  0.20791798  0.17108428 -0.12903475\n",
            "  -0.16867707  0.38371371 -0.02130927  0.24531206]\n",
            " [ 0.42375841 -0.00365924  0.03906526 -0.27074993 -0.54332892  0.24208761\n",
            "  -0.0118575   0.18579329 -0.02353376 -0.03757525]]\n"
          ]
        }
      ],
      "source": [
        "import numpy as np\n",
        "# Author: Warren Weckesser\n",
        "X = np.random.rand(5, 10)\n",
        "# Recent versions of numpy\n",
        "Y = X - X.mean(axis=1, keepdims=True)\n",
        "# Older versions of numpy\n",
        "Y = X - X.mean(axis=1).reshape(-1, 1)\n",
        "print(Y) "
      ]
    },
    {
      "cell_type": "markdown",
      "metadata": {
        "id": "g5fxVW2virxJ"
      },
      "source": [
        "#### 59. How to sort an array by the nth column? (★★☆) \n",
        "(**hint**: argsort)"
      ]
    },
    {
      "cell_type": "code",
      "execution_count": 38,
      "metadata": {
        "id": "naP7UggMirxK",
        "colab": {
          "base_uri": "https://localhost:8080/"
        },
        "outputId": "bf12ffdf-4392-4f10-d10d-41e7fcd0ea69"
      },
      "outputs": [
        {
          "output_type": "stream",
          "name": "stdout",
          "text": [
            "[[2 9 2]\n",
            " [2 9 2]\n",
            " [9 3 2]]\n",
            "[[9 3 2]\n",
            " [2 9 2]\n",
            " [2 9 2]]\n"
          ]
        }
      ],
      "source": [
        "import numpy as np\n",
        "Z = np.random.randint(0,10,(3,3))\n",
        "print(Z)\n",
        "print(Z[Z[:,1].argsort()])"
      ]
    },
    {
      "cell_type": "markdown",
      "metadata": {
        "id": "IGb_3qXlirxK"
      },
      "source": [
        "#### 60. How to tell if a given 2D array has null columns? (★★☆) \n",
        "(**hint**: any, ~)"
      ]
    },
    {
      "cell_type": "code",
      "execution_count": 39,
      "metadata": {
        "id": "vPtRPX6HirxK",
        "colab": {
          "base_uri": "https://localhost:8080/"
        },
        "outputId": "7b75dfe1-16b3-4a42-bed6-325a05d51060"
      },
      "outputs": [
        {
          "output_type": "stream",
          "name": "stdout",
          "text": [
            "False\n"
          ]
        }
      ],
      "source": [
        "import numpy as np\n",
        "Z = np.random.randint(0,3,(3,10))\n",
        "print((~Z.any(axis=0)).any())"
      ]
    },
    {
      "cell_type": "markdown",
      "metadata": {
        "id": "ebPrA6EHirxL"
      },
      "source": [
        "#### 61. Find the nearest value from a given value in an array (★★☆) \n",
        "(**hint**: np.abs, argmin, flat)"
      ]
    },
    {
      "cell_type": "code",
      "execution_count": 40,
      "metadata": {
        "id": "GzP_fJ2tirxL",
        "colab": {
          "base_uri": "https://localhost:8080/"
        },
        "outputId": "384c1d61-5771-49be-e8bd-a81c2a092e58"
      },
      "outputs": [
        {
          "output_type": "stream",
          "name": "stdout",
          "text": [
            "0.552963703818427\n"
          ]
        }
      ],
      "source": [
        "import numpy as np\n",
        "Z = np.random.uniform(0,1,10)\n",
        "z = 0.5\n",
        "m = Z.flat[np.abs(Z - z).argmin()]\n",
        "print(m)"
      ]
    },
    {
      "cell_type": "markdown",
      "metadata": {
        "id": "uGazqQGIirxL"
      },
      "source": [
        "#### 62. Considering two arrays with shape (1,3) and (3,1), how to compute their sum using an iterator? (★★☆) \n",
        "(**hint**: np.nditer)"
      ]
    },
    {
      "cell_type": "code",
      "execution_count": 41,
      "metadata": {
        "id": "UeBoFHoTirxM",
        "colab": {
          "base_uri": "https://localhost:8080/"
        },
        "outputId": "4a7af825-8da0-447c-b0ce-0a478dca7a98"
      },
      "outputs": [
        {
          "output_type": "stream",
          "name": "stdout",
          "text": [
            "[[0 1 2]\n",
            " [1 2 3]\n",
            " [2 3 4]]\n"
          ]
        }
      ],
      "source": [
        "import numpy as np\n",
        "A = np.arange(3).reshape(3,1)\n",
        "B = np.arange(3).reshape(1,3)\n",
        "it = np.nditer([A,B,None])\n",
        "for x,y,z in it: z[...] = x + y\n",
        "print(it.operands[2])"
      ]
    },
    {
      "cell_type": "markdown",
      "metadata": {
        "id": "bdgHIi5ZirxM"
      },
      "source": [
        "#### 63. Create an array class that has a name attribute (★★☆) \n",
        "(**hint**: class method)"
      ]
    },
    {
      "cell_type": "code",
      "execution_count": 42,
      "metadata": {
        "id": "W-8pnL7lirxM",
        "colab": {
          "base_uri": "https://localhost:8080/"
        },
        "outputId": "4b2d96b8-d9de-47c2-e463-968ddfe5cb09"
      },
      "outputs": [
        {
          "output_type": "stream",
          "name": "stdout",
          "text": [
            "range_10\n"
          ]
        }
      ],
      "source": [
        "import numpy as np\n",
        "class NamedArray(np.ndarray):\n",
        "    def __new__(cls, array, name=\"no name\"):\n",
        "        obj = np.asarray(array).view(cls)\n",
        "        obj.name = name\n",
        "        return obj\n",
        "    def __array_finalize__(self, obj):\n",
        "        if obj is None: return\n",
        "        self.info = getattr(obj, 'name', \"no name\")\n",
        "Z = NamedArray(np.arange(10), \"range_10\")\n",
        "print (Z.name)"
      ]
    },
    {
      "cell_type": "markdown",
      "metadata": {
        "id": "vuAD5idsirxM"
      },
      "source": [
        "#### 64. Consider a given vector, how to add 1 to each element indexed by a second vector (be careful with repeated indices)? (★★★) \n",
        "(**hint**: np.bincount | np.add.at)"
      ]
    },
    {
      "cell_type": "code",
      "execution_count": 43,
      "metadata": {
        "id": "sW4iHdkpirxN",
        "colab": {
          "base_uri": "https://localhost:8080/"
        },
        "outputId": "70bce721-3e62-4e30-81ed-5b94a37eb829"
      },
      "outputs": [
        {
          "output_type": "stream",
          "name": "stdout",
          "text": [
            "[4. 6. 2. 2. 2. 1. 3. 4. 3. 3.]\n",
            "[ 7. 11.  3.  3.  3.  1.  5.  7.  5.  5.]\n"
          ]
        }
      ],
      "source": [
        "import numpy as np\n",
        "Z = np.ones(10)\n",
        "I = np.random.randint(0,len(Z),20)\n",
        "Z += np.bincount(I, minlength=len(Z))\n",
        "print(Z)\n",
        "# Another solution\n",
        "# Author: Bartosz Telenczuk\n",
        "np.add.at(Z, I, 1)\n",
        "print(Z)"
      ]
    },
    {
      "cell_type": "markdown",
      "metadata": {
        "id": "CM8hVhUAirxN"
      },
      "source": [
        "#### 65. How to accumulate elements of a vector (X) to an array (F) based on an index list (I)? (★★★) \n",
        "(**hint**: np.bincount)"
      ]
    },
    {
      "cell_type": "code",
      "execution_count": 44,
      "metadata": {
        "id": "Tos-O1YpirxN",
        "colab": {
          "base_uri": "https://localhost:8080/"
        },
        "outputId": "c7b221de-a457-425b-ce1e-5e03a81ed619"
      },
      "outputs": [
        {
          "output_type": "stream",
          "name": "stdout",
          "text": [
            "[0. 7. 0. 6. 5. 0. 0. 0. 0. 3.]\n"
          ]
        }
      ],
      "source": [
        "import numpy as np\n",
        "X = [1,2,3,4,5,6]\n",
        "I = [1,3,9,3,4,1]\n",
        "F = np.bincount(I,X)\n",
        "print(F)"
      ]
    },
    {
      "cell_type": "markdown",
      "metadata": {
        "id": "414bEi7uirxO"
      },
      "source": [
        "#### 66. Considering a (w,h,3) image of (dtype=ubyte), compute the number of unique colors (★★★) \n",
        "(**hint**: np.unique)"
      ]
    },
    {
      "cell_type": "code",
      "execution_count": 45,
      "metadata": {
        "id": "30DU_flairxO",
        "colab": {
          "base_uri": "https://localhost:8080/"
        },
        "outputId": "c8d9e382-daac-42b8-bab6-ce1d16ea9980"
      },
      "outputs": [
        {
          "output_type": "stream",
          "name": "stdout",
          "text": [
            "[0 1]\n"
          ]
        }
      ],
      "source": [
        "import numpy as np\n",
        "w,h = 16,16\n",
        "I = np.random.randint(0,2,(h,w,3)).astype(np.ubyte)\n",
        "F = I[...,0]*256*256 + I[...,1]*256 +I[...,2]\n",
        "n = len(np.unique(F))\n",
        "print(np.unique(I))"
      ]
    },
    {
      "cell_type": "markdown",
      "metadata": {
        "id": "eSF06TEGirxO"
      },
      "source": [
        "#### 67. Considering a four dimensions array, how to get sum over the last two axis at once? (★★★) \n",
        "(**hint**: sum(axis=(-2,-1)))"
      ]
    },
    {
      "cell_type": "code",
      "execution_count": 46,
      "metadata": {
        "id": "tFp2_EQpirxP",
        "colab": {
          "base_uri": "https://localhost:8080/"
        },
        "outputId": "39311333-0e8e-4549-bb05-c901e02ebecb"
      },
      "outputs": [
        {
          "output_type": "stream",
          "name": "stdout",
          "text": [
            "[[50 59 60 59]\n",
            " [57 45 61 68]\n",
            " [47 50 42 55]]\n",
            "[[50 59 60 59]\n",
            " [57 45 61 68]\n",
            " [47 50 42 55]]\n"
          ]
        }
      ],
      "source": [
        "import numpy as np\n",
        "A = np.random.randint(0,10,(3,4,3,4))\n",
        "# solution by passing a tuple of axes (introduced in numpy 1.7.0)\n",
        "sum = A.sum(axis=(-2,-1))\n",
        "print(sum)\n",
        "# solution by flattening the last two dimensions into one\n",
        "# (useful for functions that don't accept tuples for axis argument)\n",
        "sum = A.reshape(A.shape[:-2] + (-1,)).sum(axis=-1)\n",
        "print(sum)"
      ]
    },
    {
      "cell_type": "markdown",
      "metadata": {
        "id": "LE3AlZEBirxP"
      },
      "source": [
        "#### 68. Considering a one-dimensional vector D, how to compute means of subsets of D using a vector S of same size describing subset  indices? (★★★) \n",
        "(**hint**: np.bincount)"
      ]
    },
    {
      "cell_type": "code",
      "execution_count": 47,
      "metadata": {
        "id": "fVPZLYtMirxQ",
        "colab": {
          "base_uri": "https://localhost:8080/"
        },
        "outputId": "f145c3c6-5771-4d06-e19f-3cb36248d3a9"
      },
      "outputs": [
        {
          "output_type": "stream",
          "name": "stdout",
          "text": [
            "[0.60368519 0.63256411 0.4577823  0.47156602 0.59521128 0.46041565\n",
            " 0.48848626 0.51344454 0.6477725  0.60571798]\n",
            "0    0.603685\n",
            "1    0.632564\n",
            "2    0.457782\n",
            "3    0.471566\n",
            "4    0.595211\n",
            "5    0.460416\n",
            "6    0.488486\n",
            "7    0.513445\n",
            "8    0.647772\n",
            "9    0.605718\n",
            "dtype: float64\n"
          ]
        }
      ],
      "source": [
        "import numpy as np\n",
        "D = np.random.uniform(0,1,100)\n",
        "S = np.random.randint(0,10,100)\n",
        "D_sums = np.bincount(S, weights=D)\n",
        "D_counts = np.bincount(S)\n",
        "D_means = D_sums / D_counts\n",
        "print(D_means)\n",
        "# Pandas solution as a reference due to more intuitive code\n",
        "import pandas as pd\n",
        "print(pd.Series(D).groupby(S).mean())"
      ]
    },
    {
      "cell_type": "markdown",
      "metadata": {
        "id": "ASwASNtvirxQ"
      },
      "source": [
        "#### 69. How to get the diagonal of a dot product? (★★★) \n",
        "(**hint**: np.diag)"
      ]
    },
    {
      "cell_type": "code",
      "execution_count": 48,
      "metadata": {
        "id": "YYaxw7HvirxR",
        "colab": {
          "base_uri": "https://localhost:8080/"
        },
        "outputId": "408b747e-0c5b-4723-81ec-31eaf19bac99"
      },
      "outputs": [
        {
          "output_type": "execute_result",
          "data": {
            "text/plain": [
              "array([1.91136808, 0.76913035, 1.11288171, 2.76834731, 1.48342424])"
            ]
          },
          "metadata": {},
          "execution_count": 48
        }
      ],
      "source": [
        "import numpy as np\n",
        "A = np.random.uniform(0,1,(5,5))\n",
        "B = np.random.uniform(0,1,(5,5))\n",
        "# Slow version  \n",
        "np.diag(np.dot(A, B))\n",
        "# Fast version\n",
        "np.sum(A * B.T, axis=1)\n",
        "# Faster version\n",
        "np.einsum(\"ij,ji->i\", A, B)"
      ]
    },
    {
      "cell_type": "markdown",
      "metadata": {
        "id": "JqzfOxW6irxR"
      },
      "source": [
        "#### 70. Consider the vector \\[1, 2, 3, 4, 5\\], how to build a new vector with 3 consecutive zeros interleaved between each value? (★★★) \n",
        "(**hint**: array\\[::4\\])"
      ]
    },
    {
      "cell_type": "code",
      "execution_count": 49,
      "metadata": {
        "id": "QpNrneVhirxS",
        "colab": {
          "base_uri": "https://localhost:8080/"
        },
        "outputId": "804c243b-af61-4e31-d2ae-653aaec0e214"
      },
      "outputs": [
        {
          "output_type": "stream",
          "name": "stdout",
          "text": [
            "[1. 0. 0. 0. 2. 0. 0. 0. 3. 0. 0. 0. 4. 0. 0. 0. 5.]\n"
          ]
        }
      ],
      "source": [
        "import numpy as np\n",
        "Z = np.array([1,2,3,4,5])\n",
        "nz = 3\n",
        "Z0 = np.zeros(len(Z) + (len(Z)-1)*(nz))\n",
        "Z0[::nz+1] = Z\n",
        "print(Z0)"
      ]
    },
    {
      "cell_type": "markdown",
      "metadata": {
        "id": "NgeLmmF6irxS"
      },
      "source": [
        "#### 71. Consider an array of dimension (5,5,3), how to mulitply it by an array with dimensions (5,5)? (★★★) \n",
        "(**hint**: array\\[:, :, None\\])"
      ]
    },
    {
      "cell_type": "code",
      "execution_count": 50,
      "metadata": {
        "collapsed": true,
        "id": "OJ86AjnFirxS",
        "colab": {
          "base_uri": "https://localhost:8080/"
        },
        "outputId": "ec8e9b88-c860-43af-bf45-fc292c1bbaea"
      },
      "outputs": [
        {
          "output_type": "stream",
          "name": "stdout",
          "text": [
            "[[[2. 2. 2.]\n",
            "  [2. 2. 2.]\n",
            "  [2. 2. 2.]\n",
            "  [2. 2. 2.]\n",
            "  [2. 2. 2.]]\n",
            "\n",
            " [[2. 2. 2.]\n",
            "  [2. 2. 2.]\n",
            "  [2. 2. 2.]\n",
            "  [2. 2. 2.]\n",
            "  [2. 2. 2.]]\n",
            "\n",
            " [[2. 2. 2.]\n",
            "  [2. 2. 2.]\n",
            "  [2. 2. 2.]\n",
            "  [2. 2. 2.]\n",
            "  [2. 2. 2.]]\n",
            "\n",
            " [[2. 2. 2.]\n",
            "  [2. 2. 2.]\n",
            "  [2. 2. 2.]\n",
            "  [2. 2. 2.]\n",
            "  [2. 2. 2.]]\n",
            "\n",
            " [[2. 2. 2.]\n",
            "  [2. 2. 2.]\n",
            "  [2. 2. 2.]\n",
            "  [2. 2. 2.]\n",
            "  [2. 2. 2.]]]\n"
          ]
        }
      ],
      "source": [
        "import numpy as np\n",
        "A = np.ones((5,5,3))\n",
        "B = 2*np.ones((5,5))\n",
        "print(A * B[:,:,None])"
      ]
    },
    {
      "cell_type": "markdown",
      "metadata": {
        "id": "ZjOk6CfOirxT"
      },
      "source": [
        "#### 72. How to swap two rows of an array? (★★★) \n",
        "(**hint**: array\\[\\[\\]\\] = array\\[\\[\\]\\])"
      ]
    },
    {
      "cell_type": "code",
      "execution_count": 51,
      "metadata": {
        "id": "NUY0sSovirxT",
        "colab": {
          "base_uri": "https://localhost:8080/"
        },
        "outputId": "2ba89f6e-78ae-4562-8c4d-3ac05348da0a"
      },
      "outputs": [
        {
          "output_type": "stream",
          "name": "stdout",
          "text": [
            "[[ 5  6  7  8  9]\n",
            " [ 0  1  2  3  4]\n",
            " [10 11 12 13 14]\n",
            " [15 16 17 18 19]\n",
            " [20 21 22 23 24]]\n"
          ]
        }
      ],
      "source": [
        "import numpy as np\n",
        "A = np.arange(25).reshape(5,5)\n",
        "A[[0,1]] = A[[1,0]]\n",
        "print(A)"
      ]
    },
    {
      "cell_type": "markdown",
      "metadata": {
        "id": "4skbsIwDirxU"
      },
      "source": [
        "#### 73. Consider a set of 10 triplets describing 10 triangles (with shared vertices), find the set of unique line segments composing all the  triangles (★★★) \n",
        "(**hint**: repeat, np.roll, np.sort, view, np.unique)"
      ]
    },
    {
      "cell_type": "code",
      "execution_count": 52,
      "metadata": {
        "id": "1h_GdvmRirxU",
        "colab": {
          "base_uri": "https://localhost:8080/"
        },
        "outputId": "5cdbcc3a-f1d7-401d-ac17-86c83bc8aefe"
      },
      "outputs": [
        {
          "output_type": "stream",
          "name": "stdout",
          "text": [
            "[( 1, 22) ( 1, 56) ( 5, 40) ( 5, 91) (10, 47) (10, 63) (12, 24) (12, 34)\n",
            " (12, 43) (12, 80) (14, 54) (14, 76) (22, 56) (24, 34) (27, 35) (27, 97)\n",
            " (29, 57) (29, 75) (35, 97) (40, 91) (41, 73) (41, 86) (43, 80) (47, 63)\n",
            " (54, 76) (57, 75) (68, 70) (68, 71) (70, 71) (73, 86)]\n"
          ]
        }
      ],
      "source": [
        "import numpy as np\n",
        "faces = np.random.randint(0,100,(10,3))\n",
        "F = np.roll(faces.repeat(2,axis=1),-1,axis=1)\n",
        "F = F.reshape(len(F)*3,2)\n",
        "F = np.sort(F,axis=1)\n",
        "G = F.view( dtype=[('p0',F.dtype),('p1',F.dtype)] )\n",
        "G = np.unique(G)\n",
        "print(G)"
      ]
    },
    {
      "cell_type": "markdown",
      "metadata": {
        "id": "Rq28afv_irxV"
      },
      "source": [
        "#### 74. Given an array C that is a bincount, how to produce an array A such that np.bincount(A) == C? (★★★) \n",
        "(**hint**: np.repeat)"
      ]
    },
    {
      "cell_type": "code",
      "execution_count": 53,
      "metadata": {
        "id": "zHNC5mbwirxW",
        "colab": {
          "base_uri": "https://localhost:8080/"
        },
        "outputId": "1433f979-1a43-4850-ebec-ffd309d8fa50"
      },
      "outputs": [
        {
          "output_type": "stream",
          "name": "stdout",
          "text": [
            "[1 1 2 3 4 4 6]\n"
          ]
        }
      ],
      "source": [
        "import numpy as np\n",
        "C = np.bincount([1,1,2,3,4,4,6])\n",
        "A = np.repeat(np.arange(len(C)), C)\n",
        "print(A)"
      ]
    },
    {
      "cell_type": "markdown",
      "metadata": {
        "id": "TveuctS1irxX"
      },
      "source": [
        "#### 75. How to compute averages using a sliding window over an array? (★★★) \n",
        "(**hint**: np.cumsum)"
      ]
    },
    {
      "cell_type": "code",
      "execution_count": 54,
      "metadata": {
        "id": "8SaXf82birxY",
        "colab": {
          "base_uri": "https://localhost:8080/"
        },
        "outputId": "084865f7-12d4-41be-9d82-433955cc3f15"
      },
      "outputs": [
        {
          "output_type": "stream",
          "name": "stdout",
          "text": [
            "[ 1.  2.  3.  4.  5.  6.  7.  8.  9. 10. 11. 12. 13. 14. 15. 16. 17. 18.]\n"
          ]
        }
      ],
      "source": [
        "import numpy as np\n",
        "def moving_average(a, n=3) :\n",
        "    ret = np.cumsum(a, dtype=float)\n",
        "    ret[n:] = ret[n:] - ret[:-n]\n",
        "    return ret[n - 1:] / n\n",
        "Z = np.arange(20)\n",
        "print(moving_average(Z, n=3))"
      ]
    },
    {
      "cell_type": "markdown",
      "metadata": {
        "id": "NtwcaahHirxY"
      },
      "source": [
        "#### 76. Consider a one-dimensional array Z, build a two-dimensional array whose first row is (Z\\[0\\],Z\\[1\\],Z\\[2\\]) and each subsequent row is  shifted by 1 (last row should be (Z\\[-3\\],Z\\[-2\\],Z\\[-1\\]) (★★★) \n",
        "(**hint**: from numpy.lib import stride_tricks)"
      ]
    },
    {
      "cell_type": "code",
      "execution_count": 55,
      "metadata": {
        "id": "If-7yFF0irxY",
        "colab": {
          "base_uri": "https://localhost:8080/"
        },
        "outputId": "c2641f5f-7185-48a7-f2b7-5510ec5d3d32"
      },
      "outputs": [
        {
          "output_type": "stream",
          "name": "stdout",
          "text": [
            "[[0 1 2]\n",
            " [1 2 3]\n",
            " [2 3 4]\n",
            " [3 4 5]\n",
            " [4 5 6]\n",
            " [5 6 7]\n",
            " [6 7 8]\n",
            " [7 8 9]]\n"
          ]
        }
      ],
      "source": [
        "import numpy as np\n",
        "from numpy.lib import stride_tricks\n",
        "def rolling(a, window):\n",
        "    shape = (a.size - window + 1, window)\n",
        "    strides = (a.itemsize, a.itemsize)\n",
        "    return stride_tricks.as_strided(a, shape=shape, strides=strides)\n",
        "Z = rolling(np.arange(10), 3)\n",
        "print(Z)"
      ]
    },
    {
      "cell_type": "markdown",
      "metadata": {
        "id": "SoiCLzWFirxZ"
      },
      "source": [
        "#### 77. How to negate a boolean, or to change the sign of a float inplace? (★★★) \n",
        "(**hint**: np.logical_not, np.negative)"
      ]
    },
    {
      "cell_type": "code",
      "execution_count": 56,
      "metadata": {
        "id": "kSvV8j0girxZ",
        "colab": {
          "base_uri": "https://localhost:8080/"
        },
        "outputId": "04234632-9abb-4288-9d3c-c857a28bfb4b"
      },
      "outputs": [
        {
          "output_type": "execute_result",
          "data": {
            "text/plain": [
              "array([-0.03761957, -0.52800422,  0.7961892 , -0.03053038,  0.5183354 ,\n",
              "        0.19872754,  0.25641929,  0.63233657, -0.92046784, -0.32526065,\n",
              "        0.15746507,  0.37462102, -0.70277107,  0.77613725,  0.51119603,\n",
              "       -0.03994672,  0.25065553, -0.28095902,  0.02504523, -0.80590224,\n",
              "        0.68672121,  0.08469629,  0.80581916, -0.44551736, -0.53844693,\n",
              "        0.71507286,  0.61278355,  0.36254935, -0.03513378,  0.14061969,\n",
              "        0.89326071, -0.89066257,  0.20263137,  0.74471396, -0.30472817,\n",
              "       -0.99071804,  0.8291354 ,  0.02997045, -0.47225834,  0.33316339,\n",
              "        0.220017  ,  0.84174905, -0.15845459, -0.6537467 ,  0.22460507,\n",
              "       -0.49054485, -0.47087699,  0.95979805,  0.24417642, -0.56208727,\n",
              "       -0.89430042, -0.12699775,  0.07709259, -0.01791454,  0.1325303 ,\n",
              "       -0.59423403, -0.47552027, -0.43191619, -0.28035663,  0.48024392,\n",
              "       -0.48029244, -0.14673096,  0.12247015,  0.03748614,  0.9672994 ,\n",
              "        0.33024028,  0.77566183,  0.4128876 , -0.82939598, -0.50825386,\n",
              "       -0.74480764,  0.52723218,  0.38034897,  0.29235002, -0.94507967,\n",
              "       -0.941212  ,  0.59724699,  0.52486769, -0.50618386,  0.27426526,\n",
              "       -0.57153738,  0.08024373,  0.77069992,  0.55616171, -0.07914666,\n",
              "        0.8230943 , -0.92244007, -0.53710839, -0.74564883, -0.78563362,\n",
              "        0.07324634, -0.07455908, -0.5146865 , -0.24497848, -0.24241998,\n",
              "       -0.41377845,  0.98484045, -0.6966299 , -0.42490368, -0.11926129])"
            ]
          },
          "metadata": {},
          "execution_count": 56
        }
      ],
      "source": [
        "import numpy as np\n",
        "Z = np.random.randint(0,2,100)\n",
        "np.logical_not(Z, out=Z)\n",
        "Z = np.random.uniform(-1.0,1.0,100)\n",
        "np.negative(Z, out=Z)"
      ]
    },
    {
      "cell_type": "markdown",
      "metadata": {
        "id": "jqXAIMLpirxZ"
      },
      "source": [
        "#### 78. Consider 2 sets of points P0,P1 describing lines (2d) and a point p, how to compute distance from p to each line i  (P0\\[i\\],P1\\[i\\])? (★★★)"
      ]
    },
    {
      "cell_type": "code",
      "execution_count": 57,
      "metadata": {
        "id": "4WNmLsn5irxa",
        "colab": {
          "base_uri": "https://localhost:8080/"
        },
        "outputId": "37367726-2e15-4507-aeda-6495761aba40"
      },
      "outputs": [
        {
          "output_type": "stream",
          "name": "stdout",
          "text": [
            "[ 3.27915606  1.76007432  8.05161819  7.08772919  6.67940349  9.03197731\n",
            "  3.4878399  12.43640522  2.41940868  0.72688579]\n"
          ]
        }
      ],
      "source": [
        "import numpy as np\n",
        "def distance(P0, P1, p):\n",
        "    T = P1 - P0\n",
        "    L = (T**2).sum(axis=1)\n",
        "    U = -((P0[:,0]-p[...,0])*T[:,0] + (P0[:,1]-p[...,1])*T[:,1]) / L\n",
        "    U = U.reshape(len(U),1)\n",
        "    D = P0 + U*T - p\n",
        "    return np.sqrt((D**2).sum(axis=1))\n",
        "P0 = np.random.uniform(-10,10,(10,2))\n",
        "P1 = np.random.uniform(-10,10,(10,2))\n",
        "p  = np.random.uniform(-10,10,( 1,2))\n",
        "print(distance(P0, P1, p))"
      ]
    },
    {
      "cell_type": "markdown",
      "metadata": {
        "id": "LVT_j0q1irxa"
      },
      "source": [
        "#### 79. Consider 2 sets of points P0,P1 describing lines (2d) and a set of points P, how to compute distance from each point j (P\\[j\\]) to each line i (P0\\[i\\],P1\\[i\\])? (★★★)"
      ]
    },
    {
      "cell_type": "code",
      "execution_count": 58,
      "metadata": {
        "id": "aHISKNmwirxa",
        "colab": {
          "base_uri": "https://localhost:8080/"
        },
        "outputId": "88ce9ab4-7bd1-4acb-e716-3e8a329e6c09"
      },
      "outputs": [
        {
          "output_type": "stream",
          "name": "stdout",
          "text": [
            "[[ 8.53653441  8.84876079  5.40470598  0.86691264  2.08983218  5.14215524\n",
            "   9.64826069  9.13328263  8.40804511 10.25328112]\n",
            " [ 0.73814594  3.06653444  2.33568148  4.50810618  4.74416984  2.34828115\n",
            "   4.82800563  1.56634719  0.45026272  5.66578736]\n",
            " [ 6.50018123  2.59550809  0.91277678  2.68052434  8.51043566  0.1612303\n",
            "   3.17424648  7.80831432  4.93816115 13.00715043]\n",
            " [ 4.2926821   0.73932325  1.39258642  1.85787223  9.52672551  2.09901627\n",
            "   1.5685378   5.69644222  2.62115986 11.8913514 ]\n",
            " [ 7.42955777 12.97835026  6.88450785  6.07832711  3.51082715  7.23589012\n",
            "  14.406954    7.3798062   8.73109542  5.47785311]\n",
            " [ 7.668003    2.75589485  1.70442676  3.89485133  8.96482992  0.83301048\n",
            "   3.1203794   9.03829502  5.92282499 14.28190825]\n",
            " [ 6.50589518  0.34440699  8.50478834  9.74942063  4.84286822  8.05614814\n",
            "   2.5056956   5.73170549  6.36661818  0.22872621]\n",
            " [ 9.52251298  9.99266803  6.59839062  0.79804809  1.25574232  6.35247806\n",
            "  10.71161912 10.03334258  9.5353213  10.48935146]\n",
            " [ 9.59844355  5.86739159  4.49566127  3.20288712  6.27903751  3.75869656\n",
            "   6.16091748 10.68086971  8.38574915 14.01775738]\n",
            " [ 1.1505738   9.27227256  1.14683242  9.91057935  2.52022258  1.81042327\n",
            "  11.56990107  1.15686838  2.60241631  0.99306935]]\n"
          ]
        }
      ],
      "source": [
        "import numpy as np\n",
        "P0 = np.random.uniform(-10, 10, (10,2))\n",
        "P1 = np.random.uniform(-10,10,(10,2))\n",
        "p = np.random.uniform(-10, 10, (10,2))\n",
        "print(np.array([distance(P0,P1,p_i) for p_i in p]))"
      ]
    },
    {
      "cell_type": "markdown",
      "metadata": {
        "id": "oASody_Rirxa"
      },
      "source": [
        "#### 80. Consider an arbitrary array, write a function that extract a subpart with a fixed shape and centered on a given element (pad with a `fill` value when necessary) (★★★) \n",
        "(**hint**: minimum, maximum)"
      ]
    },
    {
      "cell_type": "code",
      "execution_count": 59,
      "metadata": {
        "id": "pipiQc4qirxb",
        "colab": {
          "base_uri": "https://localhost:8080/"
        },
        "outputId": "6c706d59-5966-4dff-9b10-1e7f25b32d5c"
      },
      "outputs": [
        {
          "output_type": "stream",
          "name": "stdout",
          "text": [
            "[[8 6 2 9 6 6 9 0 5 8]\n",
            " [8 1 5 6 7 8 0 7 9 5]\n",
            " [1 5 4 7 8 0 0 9 0 6]\n",
            " [9 2 2 1 9 6 9 7 5 5]\n",
            " [0 0 6 3 2 3 2 2 5 3]\n",
            " [4 7 3 4 3 2 8 4 8 1]\n",
            " [4 9 8 2 4 6 0 3 2 6]\n",
            " [5 9 0 9 1 1 0 3 0 0]\n",
            " [2 3 9 6 5 3 4 9 3 8]\n",
            " [5 0 5 4 4 3 5 0 1 6]]\n",
            "[[0 0 0 0 0]\n",
            " [0 8 6 2 9]\n",
            " [0 8 1 5 6]\n",
            " [0 1 5 4 7]\n",
            " [0 9 2 2 1]]\n"
          ]
        },
        {
          "output_type": "stream",
          "name": "stderr",
          "text": [
            "/usr/local/lib/python3.7/dist-packages/ipykernel_launcher.py:20: FutureWarning: Using a non-tuple sequence for multidimensional indexing is deprecated; use `arr[tuple(seq)]` instead of `arr[seq]`. In the future this will be interpreted as an array index, `arr[np.array(seq)]`, which will result either in an error or a different result.\n"
          ]
        }
      ],
      "source": [
        "import numpy as np\n",
        "Z = np.random.randint(0,10,(10,10))\n",
        "shape = (5,5)\n",
        "fill  = 0\n",
        "position = (1,1)\n",
        "R = np.ones(shape, dtype=Z.dtype)*fill\n",
        "P  = np.array(list(position)).astype(int)\n",
        "Rs = np.array(list(R.shape)).astype(int)\n",
        "Zs = np.array(list(Z.shape)).astype(int)\n",
        "R_start = np.zeros((len(shape),)).astype(int)\n",
        "R_stop  = np.array(list(shape)).astype(int)\n",
        "Z_start = (P-Rs//2)\n",
        "Z_stop  = (P+Rs//2)+Rs%2\n",
        "R_start = (R_start - np.minimum(Z_start,0)).tolist()\n",
        "Z_start = (np.maximum(Z_start,0)).tolist()\n",
        "R_stop = np.maximum(R_start, (R_stop - np.maximum(Z_stop-Zs,0))).tolist()\n",
        "Z_stop = (np.minimum(Z_stop,Zs)).tolist()\n",
        "r = [slice(start,stop) for start,stop in zip(R_start,R_stop)]\n",
        "z = [slice(start,stop) for start,stop in zip(Z_start,Z_stop)]\n",
        "R[r] = Z[z]\n",
        "print(Z)\n",
        "print(R)"
      ]
    },
    {
      "cell_type": "markdown",
      "metadata": {
        "id": "arHC7kb1irxb"
      },
      "source": [
        "#### 81. Consider an array Z = \\[1,2,3,4,5,6,7,8,9,10,11,12,13,14\\], how to generate an array R = \\[\\[1,2,3,4\\], \\[2,3,4,5\\], \\[3,4,5,6\\], ..., \\[11,12,13,14\\]\\]? (★★★) \n",
        "(**hint**: stride\\_tricks.as\\_strided)"
      ]
    },
    {
      "cell_type": "code",
      "execution_count": 60,
      "metadata": {
        "id": "srPVcnTKirxb",
        "colab": {
          "base_uri": "https://localhost:8080/"
        },
        "outputId": "7a053b46-f57c-4e28-ad66-0c60d401776b"
      },
      "outputs": [
        {
          "output_type": "stream",
          "name": "stdout",
          "text": [
            "[[ 1  2  3  4]\n",
            " [ 2  3  4  5]\n",
            " [ 3  4  5  6]\n",
            " [ 4  5  6  7]\n",
            " [ 5  6  7  8]\n",
            " [ 6  7  8  9]\n",
            " [ 7  8  9 10]\n",
            " [ 8  9 10 11]\n",
            " [ 9 10 11 12]\n",
            " [10 11 12 13]\n",
            " [11 12 13 14]]\n"
          ]
        }
      ],
      "source": [
        "import numpy as np\n",
        "Z = np.arange(1,15,dtype=np.uint32)\n",
        "R = stride_tricks.as_strided(Z,(11,4),(4,4))\n",
        "print(R)"
      ]
    },
    {
      "cell_type": "markdown",
      "metadata": {
        "id": "QG3Kad7Firxc"
      },
      "source": [
        "#### 82. Compute a matrix rank (★★★) \n",
        "(**hint**: np.linalg.svd) (suggestion: np.linalg.svd)"
      ]
    },
    {
      "cell_type": "code",
      "execution_count": 61,
      "metadata": {
        "id": "bOekGCmsirxc",
        "colab": {
          "base_uri": "https://localhost:8080/"
        },
        "outputId": "13864cc3-8550-4949-f549-8056baafeaaf"
      },
      "outputs": [
        {
          "output_type": "stream",
          "name": "stdout",
          "text": [
            "10\n"
          ]
        }
      ],
      "source": [
        "import numpy as np\n",
        "Z = np.random.uniform(0,1,(10,10))\n",
        "U, S, V = np.linalg.svd(Z) # Singular Value Decomposition\n",
        "rank = np.sum(S > 1e-10)\n",
        "print(rank)"
      ]
    },
    {
      "cell_type": "markdown",
      "metadata": {
        "id": "Kkr7HoX1irxc"
      },
      "source": [
        "#### 83. How to find the most frequent value in an array? \n",
        "(**hint**: np.bincount, argmax)"
      ]
    },
    {
      "cell_type": "code",
      "execution_count": 62,
      "metadata": {
        "id": "XMD0_nhWirxd",
        "colab": {
          "base_uri": "https://localhost:8080/"
        },
        "outputId": "c99b279c-5933-4700-e4cf-dbb0f37d3cec"
      },
      "outputs": [
        {
          "output_type": "stream",
          "name": "stdout",
          "text": [
            "0\n"
          ]
        }
      ],
      "source": [
        "import numpy as np\n",
        "Z = np.random.randint(0,10,50)\n",
        "print(np.bincount(Z).argmax())"
      ]
    },
    {
      "cell_type": "markdown",
      "metadata": {
        "id": "840HlN1Wirxd"
      },
      "source": [
        "#### 84. Extract all the contiguous 3x3 blocks from a random 10x10 matrix (★★★) \n",
        "(**hint**: stride\\_tricks.as\\_strided)"
      ]
    },
    {
      "cell_type": "code",
      "execution_count": 63,
      "metadata": {
        "id": "crP7BAz8irxd",
        "colab": {
          "base_uri": "https://localhost:8080/"
        },
        "outputId": "8fed45fe-7afb-420a-dce6-a4e51e26c1c0"
      },
      "outputs": [
        {
          "output_type": "stream",
          "name": "stdout",
          "text": [
            "[[[[3 3 1]\n",
            "   [3 1 1]\n",
            "   [2 0 3]]\n",
            "\n",
            "  [[3 1 4]\n",
            "   [1 1 1]\n",
            "   [0 3 4]]\n",
            "\n",
            "  [[1 4 4]\n",
            "   [1 1 1]\n",
            "   [3 4 2]]\n",
            "\n",
            "  [[4 4 4]\n",
            "   [1 1 0]\n",
            "   [4 2 2]]\n",
            "\n",
            "  [[4 4 3]\n",
            "   [1 0 2]\n",
            "   [2 2 0]]\n",
            "\n",
            "  [[4 3 4]\n",
            "   [0 2 2]\n",
            "   [2 0 0]]\n",
            "\n",
            "  [[3 4 1]\n",
            "   [2 2 2]\n",
            "   [0 0 2]]\n",
            "\n",
            "  [[4 1 2]\n",
            "   [2 2 1]\n",
            "   [0 2 3]]]\n",
            "\n",
            "\n",
            " [[[3 1 1]\n",
            "   [2 0 3]\n",
            "   [3 2 1]]\n",
            "\n",
            "  [[1 1 1]\n",
            "   [0 3 4]\n",
            "   [2 1 3]]\n",
            "\n",
            "  [[1 1 1]\n",
            "   [3 4 2]\n",
            "   [1 3 1]]\n",
            "\n",
            "  [[1 1 0]\n",
            "   [4 2 2]\n",
            "   [3 1 4]]\n",
            "\n",
            "  [[1 0 2]\n",
            "   [2 2 0]\n",
            "   [1 4 3]]\n",
            "\n",
            "  [[0 2 2]\n",
            "   [2 0 0]\n",
            "   [4 3 0]]\n",
            "\n",
            "  [[2 2 2]\n",
            "   [0 0 2]\n",
            "   [3 0 1]]\n",
            "\n",
            "  [[2 2 1]\n",
            "   [0 2 3]\n",
            "   [0 1 0]]]\n",
            "\n",
            "\n",
            " [[[2 0 3]\n",
            "   [3 2 1]\n",
            "   [2 2 4]]\n",
            "\n",
            "  [[0 3 4]\n",
            "   [2 1 3]\n",
            "   [2 4 1]]\n",
            "\n",
            "  [[3 4 2]\n",
            "   [1 3 1]\n",
            "   [4 1 2]]\n",
            "\n",
            "  [[4 2 2]\n",
            "   [3 1 4]\n",
            "   [1 2 4]]\n",
            "\n",
            "  [[2 2 0]\n",
            "   [1 4 3]\n",
            "   [2 4 3]]\n",
            "\n",
            "  [[2 0 0]\n",
            "   [4 3 0]\n",
            "   [4 3 0]]\n",
            "\n",
            "  [[0 0 2]\n",
            "   [3 0 1]\n",
            "   [3 0 4]]\n",
            "\n",
            "  [[0 2 3]\n",
            "   [0 1 0]\n",
            "   [0 4 1]]]\n",
            "\n",
            "\n",
            " [[[3 2 1]\n",
            "   [2 2 4]\n",
            "   [4 2 4]]\n",
            "\n",
            "  [[2 1 3]\n",
            "   [2 4 1]\n",
            "   [2 4 1]]\n",
            "\n",
            "  [[1 3 1]\n",
            "   [4 1 2]\n",
            "   [4 1 2]]\n",
            "\n",
            "  [[3 1 4]\n",
            "   [1 2 4]\n",
            "   [1 2 1]]\n",
            "\n",
            "  [[1 4 3]\n",
            "   [2 4 3]\n",
            "   [2 1 0]]\n",
            "\n",
            "  [[4 3 0]\n",
            "   [4 3 0]\n",
            "   [1 0 0]]\n",
            "\n",
            "  [[3 0 1]\n",
            "   [3 0 4]\n",
            "   [0 0 4]]\n",
            "\n",
            "  [[0 1 0]\n",
            "   [0 4 1]\n",
            "   [0 4 1]]]\n",
            "\n",
            "\n",
            " [[[2 2 4]\n",
            "   [4 2 4]\n",
            "   [2 2 3]]\n",
            "\n",
            "  [[2 4 1]\n",
            "   [2 4 1]\n",
            "   [2 3 4]]\n",
            "\n",
            "  [[4 1 2]\n",
            "   [4 1 2]\n",
            "   [3 4 2]]\n",
            "\n",
            "  [[1 2 4]\n",
            "   [1 2 1]\n",
            "   [4 2 2]]\n",
            "\n",
            "  [[2 4 3]\n",
            "   [2 1 0]\n",
            "   [2 2 0]]\n",
            "\n",
            "  [[4 3 0]\n",
            "   [1 0 0]\n",
            "   [2 0 2]]\n",
            "\n",
            "  [[3 0 4]\n",
            "   [0 0 4]\n",
            "   [0 2 1]]\n",
            "\n",
            "  [[0 4 1]\n",
            "   [0 4 1]\n",
            "   [2 1 1]]]\n",
            "\n",
            "\n",
            " [[[4 2 4]\n",
            "   [2 2 3]\n",
            "   [1 3 1]]\n",
            "\n",
            "  [[2 4 1]\n",
            "   [2 3 4]\n",
            "   [3 1 1]]\n",
            "\n",
            "  [[4 1 2]\n",
            "   [3 4 2]\n",
            "   [1 1 4]]\n",
            "\n",
            "  [[1 2 1]\n",
            "   [4 2 2]\n",
            "   [1 4 0]]\n",
            "\n",
            "  [[2 1 0]\n",
            "   [2 2 0]\n",
            "   [4 0 3]]\n",
            "\n",
            "  [[1 0 0]\n",
            "   [2 0 2]\n",
            "   [0 3 0]]\n",
            "\n",
            "  [[0 0 4]\n",
            "   [0 2 1]\n",
            "   [3 0 0]]\n",
            "\n",
            "  [[0 4 1]\n",
            "   [2 1 1]\n",
            "   [0 0 0]]]\n",
            "\n",
            "\n",
            " [[[2 2 3]\n",
            "   [1 3 1]\n",
            "   [2 3 1]]\n",
            "\n",
            "  [[2 3 4]\n",
            "   [3 1 1]\n",
            "   [3 1 4]]\n",
            "\n",
            "  [[3 4 2]\n",
            "   [1 1 4]\n",
            "   [1 4 0]]\n",
            "\n",
            "  [[4 2 2]\n",
            "   [1 4 0]\n",
            "   [4 0 3]]\n",
            "\n",
            "  [[2 2 0]\n",
            "   [4 0 3]\n",
            "   [0 3 0]]\n",
            "\n",
            "  [[2 0 2]\n",
            "   [0 3 0]\n",
            "   [3 0 3]]\n",
            "\n",
            "  [[0 2 1]\n",
            "   [3 0 0]\n",
            "   [0 3 4]]\n",
            "\n",
            "  [[2 1 1]\n",
            "   [0 0 0]\n",
            "   [3 4 4]]]\n",
            "\n",
            "\n",
            " [[[1 3 1]\n",
            "   [2 3 1]\n",
            "   [1 2 0]]\n",
            "\n",
            "  [[3 1 1]\n",
            "   [3 1 4]\n",
            "   [2 0 0]]\n",
            "\n",
            "  [[1 1 4]\n",
            "   [1 4 0]\n",
            "   [0 0 2]]\n",
            "\n",
            "  [[1 4 0]\n",
            "   [4 0 3]\n",
            "   [0 2 0]]\n",
            "\n",
            "  [[4 0 3]\n",
            "   [0 3 0]\n",
            "   [2 0 2]]\n",
            "\n",
            "  [[0 3 0]\n",
            "   [3 0 3]\n",
            "   [0 2 1]]\n",
            "\n",
            "  [[3 0 0]\n",
            "   [0 3 4]\n",
            "   [2 1 3]]\n",
            "\n",
            "  [[0 0 0]\n",
            "   [3 4 4]\n",
            "   [1 3 2]]]]\n"
          ]
        }
      ],
      "source": [
        "import numpy as np\n",
        "Z = np.random.randint(0,5,(10,10))\n",
        "n = 3\n",
        "i = 1 + (Z.shape[0]-3)\n",
        "j = 1 + (Z.shape[1]-3)\n",
        "C = stride_tricks.as_strided(Z, shape=(i, j, n, n), strides=Z.strides + Z.strides)\n",
        "print(C)"
      ]
    },
    {
      "cell_type": "markdown",
      "metadata": {
        "id": "xk2cxEJHirxd"
      },
      "source": [
        "#### 85. Create a 2D array subclass such that Z\\[i,j\\] == Z\\[j,i\\] (★★★) \n",
        "(**hint**: class method)"
      ]
    },
    {
      "cell_type": "code",
      "execution_count": 64,
      "metadata": {
        "id": "oZ9UacWHirxe",
        "colab": {
          "base_uri": "https://localhost:8080/"
        },
        "outputId": "fc91416e-27ab-413d-e125-e05531899d5b"
      },
      "outputs": [
        {
          "output_type": "stream",
          "name": "stdout",
          "text": [
            "[[ 3  9 15 15  7]\n",
            " [ 9  1  8 11  2]\n",
            " [15  8  7 42  8]\n",
            " [15 11 42  0  5]\n",
            " [ 7  2  8  5  2]]\n"
          ]
        }
      ],
      "source": [
        "import numpy as np\n",
        "class Symetric(np.ndarray):\n",
        "    def __setitem__(self, index, value):\n",
        "        i,j = index\n",
        "        super(Symetric, self).__setitem__((i,j), value)\n",
        "        super(Symetric, self).__setitem__((j,i), value)\n",
        "def symetric(Z):\n",
        "    return np.asarray(Z + Z.T - np.diag(Z.diagonal())).view(Symetric)\n",
        "S = symetric(np.random.randint(0,10,(5,5)))\n",
        "S[2,3] = 42\n",
        "print(S)"
      ]
    },
    {
      "cell_type": "markdown",
      "metadata": {
        "id": "-Fyb11ykirxe"
      },
      "source": [
        "#### 86. Consider a set of p matrices wich shape (n,n) and a set of p vectors with shape (n,1). How to compute the sum of of the p matrix products at once? (result has shape (n,1)) (★★★) \n",
        "(**hint**: np.tensordot)"
      ]
    },
    {
      "cell_type": "code",
      "execution_count": 65,
      "metadata": {
        "id": "kvkYkjSPirxf",
        "colab": {
          "base_uri": "https://localhost:8080/"
        },
        "outputId": "041f738a-5275-4164-9e9a-fde5b9198be6"
      },
      "outputs": [
        {
          "output_type": "stream",
          "name": "stdout",
          "text": [
            "[[200.]\n",
            " [200.]\n",
            " [200.]\n",
            " [200.]\n",
            " [200.]\n",
            " [200.]\n",
            " [200.]\n",
            " [200.]\n",
            " [200.]\n",
            " [200.]\n",
            " [200.]\n",
            " [200.]\n",
            " [200.]\n",
            " [200.]\n",
            " [200.]\n",
            " [200.]\n",
            " [200.]\n",
            " [200.]\n",
            " [200.]\n",
            " [200.]]\n"
          ]
        }
      ],
      "source": [
        "import numpy as np\n",
        "p, n = 10, 20\n",
        "M = np.ones((p,n,n))\n",
        "V = np.ones((p,n,1))\n",
        "S = np.tensordot(M, V, axes=[[0, 2], [0, 1]])\n",
        "print(S)\n",
        "# It works, because:\n",
        "# M is (p,n,n)\n",
        "# V is (p,n,1)\n",
        "# Thus, summing over the paired axes 0 and 0 (of M and V independently),\n",
        "# and 2 and 1, to remain with a (n,1) vector."
      ]
    },
    {
      "cell_type": "markdown",
      "metadata": {
        "id": "FjUCegvqirxg"
      },
      "source": [
        "#### 87. Consider a 16x16 array, how to get the block-sum (block size is 4x4)? (★★★) \n",
        "(**hint**: np.add.reduceat)"
      ]
    },
    {
      "cell_type": "code",
      "execution_count": 66,
      "metadata": {
        "id": "dF0U11u3irxg",
        "colab": {
          "base_uri": "https://localhost:8080/"
        },
        "outputId": "09f77e07-5f65-4a0b-b248-2016928f0825"
      },
      "outputs": [
        {
          "output_type": "stream",
          "name": "stdout",
          "text": [
            "[[16. 16. 16. 16.]\n",
            " [16. 16. 16. 16.]\n",
            " [16. 16. 16. 16.]\n",
            " [16. 16. 16. 16.]]\n"
          ]
        }
      ],
      "source": [
        "import numpy as np\n",
        "Z = np.ones((16,16))\n",
        "k = 4\n",
        "S = np.add.reduceat(np.add.reduceat(Z, np.arange(0, Z.shape[0], k), axis=0),\n",
        "                                       np.arange(0, Z.shape[1], k), axis=1)\n",
        "print(S)"
      ]
    },
    {
      "cell_type": "markdown",
      "metadata": {
        "id": "T2Pr89WKirxh"
      },
      "source": [
        "#### 88. How to implement the Game of Life using numpy arrays? (★★★)"
      ]
    },
    {
      "cell_type": "code",
      "execution_count": 67,
      "metadata": {
        "id": "5U8Xqw37irxh",
        "colab": {
          "base_uri": "https://localhost:8080/"
        },
        "outputId": "0eb15636-6abe-4d5f-ab77-5fbd49836426"
      },
      "outputs": [
        {
          "output_type": "stream",
          "name": "stdout",
          "text": [
            "[[0 0 0 ... 0 0 0]\n",
            " [0 0 0 ... 0 0 0]\n",
            " [0 0 0 ... 0 0 0]\n",
            " ...\n",
            " [0 0 0 ... 0 0 0]\n",
            " [0 0 0 ... 0 0 0]\n",
            " [0 0 0 ... 0 0 0]]\n"
          ]
        }
      ],
      "source": [
        "import numpy as np\n",
        "def iterate(Z):\n",
        "    # Count neighbours\n",
        "    N = (Z[0:-2,0:-2] + Z[0:-2,1:-1] + Z[0:-2,2:] +\n",
        "         Z[1:-1,0:-2]                + Z[1:-1,2:] +\n",
        "         Z[2:  ,0:-2] + Z[2:  ,1:-1] + Z[2:  ,2:])\n",
        "    # Apply rules\n",
        "    birth = (N==3) & (Z[1:-1,1:-1]==0)\n",
        "    survive = ((N==2) | (N==3)) & (Z[1:-1,1:-1]==1)\n",
        "    Z[...] = 0\n",
        "    Z[1:-1,1:-1][birth | survive] = 1\n",
        "    return Z\n",
        "Z = np.random.randint(0,2,(50,50))\n",
        "for i in range(100): Z = iterate(Z)\n",
        "print(Z)"
      ]
    },
    {
      "cell_type": "markdown",
      "metadata": {
        "id": "bMirNznwirxh"
      },
      "source": [
        "#### 89. How to get the n largest values of an array (★★★) \n",
        "(**hint**: np.argsort | np.argpartition)"
      ]
    },
    {
      "cell_type": "code",
      "execution_count": 68,
      "metadata": {
        "id": "0_vRWRD6irxi",
        "colab": {
          "base_uri": "https://localhost:8080/"
        },
        "outputId": "c0b5d3a0-6b72-41dd-d5f7-a3517acf6e4a"
      },
      "outputs": [
        {
          "output_type": "stream",
          "name": "stdout",
          "text": [
            "[9995 9996 9997 9998 9999]\n",
            "[9998 9995 9996 9999 9997]\n"
          ]
        }
      ],
      "source": [
        "import numpy as np\n",
        "Z = np.arange(10000)\n",
        "np.random.shuffle(Z)\n",
        "n = 5\n",
        "# Slow\n",
        "print (Z[np.argsort(Z)[-n:]])\n",
        "# Fast\n",
        "print (Z[np.argpartition(-Z,n)[:n]])"
      ]
    },
    {
      "cell_type": "markdown",
      "metadata": {
        "id": "2ePj-trWirxi"
      },
      "source": [
        "#### 90. Given an arbitrary number of vectors, build the cartesian product (every combinations of every item) (★★★) \n",
        "(**hint**: np.indices)"
      ]
    },
    {
      "cell_type": "code",
      "execution_count": 69,
      "metadata": {
        "scrolled": true,
        "id": "OHAPtMJ0irxi",
        "colab": {
          "base_uri": "https://localhost:8080/"
        },
        "outputId": "974221cf-880b-4db9-e0dc-0e5cb9f42386"
      },
      "outputs": [
        {
          "output_type": "stream",
          "name": "stdout",
          "text": [
            "[[1 4 6]\n",
            " [1 4 7]\n",
            " [1 5 6]\n",
            " [1 5 7]\n",
            " [2 4 6]\n",
            " [2 4 7]\n",
            " [2 5 6]\n",
            " [2 5 7]\n",
            " [3 4 6]\n",
            " [3 4 7]\n",
            " [3 5 6]\n",
            " [3 5 7]]\n"
          ]
        }
      ],
      "source": [
        "import numpy as np\n",
        "def cartesian(arrays):\n",
        "    arrays = [np.asarray(a) for a in arrays]\n",
        "    shape = (len(x) for x in arrays)\n",
        "    ix = np.indices(shape, dtype=int)\n",
        "    ix = ix.reshape(len(arrays), -1).T\n",
        "    for n, arr in enumerate(arrays):\n",
        "        ix[:, n] = arrays[n][ix[:, n]]\n",
        "    return ix\n",
        "print (cartesian(([1, 2, 3], [4, 5], [6, 7])))"
      ]
    },
    {
      "cell_type": "markdown",
      "metadata": {
        "id": "L-A26wVEirxj"
      },
      "source": [
        "#### 91. How to create a record array from a regular array? (★★★) \n",
        "(**hint**: np.core.records.fromarrays)"
      ]
    },
    {
      "cell_type": "code",
      "execution_count": 70,
      "metadata": {
        "id": "HW3acaThirxj",
        "colab": {
          "base_uri": "https://localhost:8080/"
        },
        "outputId": "f1096e12-1e6f-4361-c27b-b4860474faaa"
      },
      "outputs": [
        {
          "output_type": "stream",
          "name": "stdout",
          "text": [
            "[(b'Hello', 2.5, 3) (b'World', 3.6, 2)]\n"
          ]
        }
      ],
      "source": [
        "import numpy as np\n",
        "Z = np.array([(\"Hello\", 2.5, 3),\n",
        "              (\"World\", 3.6, 2)])\n",
        "R = np.core.records.fromarrays(Z.T,\n",
        "                               names='col1, col2, col3',\n",
        "                               formats = 'S8, f8, i8')\n",
        "print(R)"
      ]
    },
    {
      "cell_type": "markdown",
      "metadata": {
        "id": "yl9DCb3Zirxj"
      },
      "source": [
        "#### 92. Consider a large vector Z, compute Z to the power of 3 using 3 different methods (★★★) \n",
        "(**hint**: np.power, \\*, np.einsum)"
      ]
    },
    {
      "cell_type": "code",
      "execution_count": 71,
      "metadata": {
        "id": "KI5sJjleirxj",
        "colab": {
          "base_uri": "https://localhost:8080/"
        },
        "outputId": "e886610d-03d4-47ae-b86b-8093e61eba4a"
      },
      "outputs": [
        {
          "output_type": "stream",
          "name": "stdout",
          "text": [
            "1 loop, best of 5: 3.72 s per loop\n",
            "10 loops, best of 5: 136 ms per loop\n",
            "10 loops, best of 5: 120 ms per loop\n"
          ]
        }
      ],
      "source": [
        "import numpy as np\n",
        "x = np.random.rand(int(5e7))\n",
        "%timeit np.power(x,3)\n",
        "%timeit x*x*x\n",
        "%timeit np.einsum('i,i,i->i',x,x,x)"
      ]
    },
    {
      "cell_type": "markdown",
      "metadata": {
        "id": "5yYDUZQbirxk"
      },
      "source": [
        "#### 93. Consider two arrays A and B of shape (8,3) and (2,2). How to find rows of A that contain elements of each row of B regardless of the order of the elements in B? (★★★) \n",
        "(**hint**: np.where)"
      ]
    },
    {
      "cell_type": "code",
      "execution_count": 72,
      "metadata": {
        "id": "0Tw8JgRwirxk",
        "colab": {
          "base_uri": "https://localhost:8080/"
        },
        "outputId": "1866c7b6-f9a4-4750-b746-6ee0c9ceb77c"
      },
      "outputs": [
        {
          "output_type": "stream",
          "name": "stdout",
          "text": [
            "[]\n"
          ]
        }
      ],
      "source": [
        "import numpy as np\n",
        "A = np.random.randint(0,5,(8,3))\n",
        "B = np.random.randint(0,5,(2,2))\n",
        "C = (A[..., np.newaxis, np.newaxis] == B)\n",
        "rows = np.where(C.any((3,1)).all(1))[0]\n",
        "print(rows)"
      ]
    },
    {
      "cell_type": "markdown",
      "metadata": {
        "id": "b1RLlVy0irxk"
      },
      "source": [
        "#### 94. Considering a 10x3 matrix, extract rows with unequal values (e.g. \\[2,2,3\\]) (★★★)"
      ]
    },
    {
      "cell_type": "code",
      "execution_count": 73,
      "metadata": {
        "id": "OMT6s-WUirxl",
        "colab": {
          "base_uri": "https://localhost:8080/"
        },
        "outputId": "58525157-f2f6-4917-8b92-ecdb60107798"
      },
      "outputs": [
        {
          "output_type": "stream",
          "name": "stdout",
          "text": [
            "[[4 4 0]\n",
            " [4 0 1]\n",
            " [0 3 2]\n",
            " [2 3 1]\n",
            " [1 1 2]\n",
            " [1 2 0]\n",
            " [4 1 0]\n",
            " [0 1 1]\n",
            " [0 2 3]\n",
            " [4 2 4]]\n",
            "[[4 4 0]\n",
            " [4 0 1]\n",
            " [0 3 2]\n",
            " [2 3 1]\n",
            " [1 1 2]\n",
            " [1 2 0]\n",
            " [4 1 0]\n",
            " [0 1 1]\n",
            " [0 2 3]\n",
            " [4 2 4]]\n",
            "[[4 4 0]\n",
            " [4 0 1]\n",
            " [0 3 2]\n",
            " [2 3 1]\n",
            " [1 1 2]\n",
            " [1 2 0]\n",
            " [4 1 0]\n",
            " [0 1 1]\n",
            " [0 2 3]\n",
            " [4 2 4]]\n"
          ]
        }
      ],
      "source": [
        "import numpy as np\n",
        "Z = np.random.randint(0,5,(10,3))\n",
        "print(Z)\n",
        "# solution for arrays of all dtypes (including string arrays and record arrays)\n",
        "E = np.all(Z[:,1:] == Z[:,:-1], axis=1)\n",
        "U = Z[~E]\n",
        "print(U)\n",
        "# soluiton for numerical arrays only, will work for any number of columns in Z\n",
        "U = Z[Z.max(axis=1) != Z.min(axis=1),:]\n",
        "print(U)"
      ]
    },
    {
      "cell_type": "markdown",
      "metadata": {
        "id": "w1425_Kairxl"
      },
      "source": [
        "#### 95. Convert a vector of ints into a matrix binary representation (★★★) \n",
        "(**hint**: np.unpackbits)"
      ]
    },
    {
      "cell_type": "code",
      "execution_count": 74,
      "metadata": {
        "id": "sNK740ZSirxl",
        "colab": {
          "base_uri": "https://localhost:8080/"
        },
        "outputId": "946a7664-65af-451c-a6f4-608869133689"
      },
      "outputs": [
        {
          "output_type": "stream",
          "name": "stdout",
          "text": [
            "[[0 0 0 0 0 0 0 0]\n",
            " [0 0 0 0 0 0 0 1]\n",
            " [0 0 0 0 0 0 1 0]\n",
            " [0 0 0 0 0 0 1 1]\n",
            " [0 0 0 0 1 1 1 1]\n",
            " [0 0 0 1 0 0 0 0]\n",
            " [0 0 1 0 0 0 0 0]\n",
            " [0 1 0 0 0 0 0 0]\n",
            " [1 0 0 0 0 0 0 0]]\n",
            "[[0 0 0 0 0 0 0 0]\n",
            " [0 0 0 0 0 0 0 1]\n",
            " [0 0 0 0 0 0 1 0]\n",
            " [0 0 0 0 0 0 1 1]\n",
            " [0 0 0 0 1 1 1 1]\n",
            " [0 0 0 1 0 0 0 0]\n",
            " [0 0 1 0 0 0 0 0]\n",
            " [0 1 0 0 0 0 0 0]\n",
            " [1 0 0 0 0 0 0 0]]\n"
          ]
        }
      ],
      "source": [
        "import numpy as np\n",
        "I = np.array([0, 1, 2, 3, 15, 16, 32, 64, 128])\n",
        "B = ((I.reshape(-1,1) & (2**np.arange(8))) != 0).astype(int)\n",
        "print(B[:,::-1])\n",
        "# Author: Daniel T. McDonald\n",
        "I = np.array([0, 1, 2, 3, 15, 16, 32, 64, 128], dtype=np.uint8)\n",
        "print(np.unpackbits(I[:, np.newaxis], axis=1))"
      ]
    },
    {
      "cell_type": "markdown",
      "metadata": {
        "id": "ckykiJPyirxm"
      },
      "source": [
        "#### 96. Given a two dimensional array, how to extract unique rows? (★★★) \n",
        "(**hint**: np.ascontiguousarray)"
      ]
    },
    {
      "cell_type": "code",
      "execution_count": 75,
      "metadata": {
        "id": "2WLYBmEKirxn",
        "colab": {
          "base_uri": "https://localhost:8080/"
        },
        "outputId": "e6f35843-8f1e-4ac2-fa78-7a3abb11b877"
      },
      "outputs": [
        {
          "output_type": "stream",
          "name": "stdout",
          "text": [
            "[[0 0 0]\n",
            " [0 1 0]\n",
            " [0 1 1]\n",
            " [1 0 0]\n",
            " [1 1 0]]\n",
            "[[0 0 0]\n",
            " [0 1 0]\n",
            " [0 1 1]\n",
            " [1 0 0]\n",
            " [1 1 0]]\n"
          ]
        }
      ],
      "source": [
        "import numpy as np\n",
        "Z = np.random.randint(0,2,(6,3))\n",
        "T = np.ascontiguousarray(Z).view(np.dtype((np.void, Z.dtype.itemsize * Z.shape[1])))\n",
        "_, idx = np.unique(T, return_index=True)\n",
        "uZ = Z[idx]\n",
        "print(uZ)\n",
        "# Author: Andreas Kouzelis\n",
        "# NumPy >= 1.13\n",
        "uZ = np.unique(Z, axis=0)\n",
        "print(uZ)"
      ]
    },
    {
      "cell_type": "markdown",
      "metadata": {
        "id": "q2zjc9Msirxn"
      },
      "source": [
        "#### 97. Considering 2 vectors A & B, write the einsum equivalent of inner, outer, sum, and mul function (★★★) \n",
        "(**hint**: np.einsum)"
      ]
    },
    {
      "cell_type": "code",
      "execution_count": 76,
      "metadata": {
        "id": "Alzcg0-girxn",
        "colab": {
          "base_uri": "https://localhost:8080/"
        },
        "outputId": "2ca591ea-5a47-41d6-8075-4849c937823e"
      },
      "outputs": [
        {
          "output_type": "execute_result",
          "data": {
            "text/plain": [
              "array([[0.08594973, 0.00981064, 0.05827407, 0.15881253, 0.09143286,\n",
              "        0.0510582 , 0.06180975, 0.1286182 , 0.14034269, 0.12179767],\n",
              "       [0.18434165, 0.02104148, 0.12498395, 0.34061493, 0.19610165,\n",
              "        0.10950764, 0.13256715, 0.27585531, 0.30100154, 0.2612269 ],\n",
              "       [0.21042876, 0.02401917, 0.14267106, 0.38881706, 0.22385298,\n",
              "        0.12500461, 0.1513274 , 0.31489297, 0.34359778, 0.29819443],\n",
              "       [0.23429688, 0.02674357, 0.15885368, 0.43291907, 0.24924375,\n",
              "        0.1391834 , 0.16849188, 0.35061006, 0.38257073, 0.33201747],\n",
              "       [0.5327979 , 0.06081566, 0.36123787, 0.98447052, 0.56678752,\n",
              "        0.31650709, 0.38315541, 0.79729745, 0.86997695, 0.75501735],\n",
              "       [0.32885369, 0.03753666, 0.22296336, 0.60763522, 0.34983278,\n",
              "        0.19535461, 0.23649131, 0.49210819, 0.53696746, 0.46601206],\n",
              "       [0.43701331, 0.04988243, 0.29629576, 0.80748577, 0.46489239,\n",
              "        0.25960652, 0.31427304, 0.65396203, 0.71357546, 0.61928291],\n",
              "       [0.36268057, 0.04139779, 0.24589804, 0.6701384 , 0.38581763,\n",
              "        0.21544937, 0.26081752, 0.54272792, 0.59220154, 0.51394746],\n",
              "       [0.15624506, 0.01783443, 0.10593442, 0.28869982, 0.16621265,\n",
              "        0.09281694, 0.11236182, 0.23381059, 0.25512414, 0.22141179],\n",
              "       [0.44624298, 0.05093594, 0.30255349, 0.82453977, 0.47471087,\n",
              "        0.26508938, 0.32091045, 0.66777363, 0.72864609, 0.63236209]])"
            ]
          },
          "metadata": {},
          "execution_count": 76
        }
      ],
      "source": [
        "import numpy as np\n",
        "A = np.random.uniform(0,1,10)\n",
        "B = np.random.uniform(0,1,10)\n",
        "np.einsum('i->', A)       # np.sum(A)\n",
        "np.einsum('i,i->i', A, B) # A * B\n",
        "np.einsum('i,i', A, B)    # np.inner(A, B)\n",
        "np.einsum('i,j->ij', A, B)    # np.outer(A, B)"
      ]
    },
    {
      "cell_type": "markdown",
      "metadata": {
        "id": "WRRgoneLirxo"
      },
      "source": [
        "#### 98. Considering a path described by two vectors (X,Y), how to sample it using equidistant samples (★★★)? \n",
        "(**hint**: np.cumsum, np.interp)"
      ]
    },
    {
      "cell_type": "code",
      "execution_count": 77,
      "metadata": {
        "collapsed": true,
        "id": "9RKfoxAdirxo"
      },
      "outputs": [],
      "source": [
        "import numpy as np\n",
        "phi = np.arange(0, 10*np.pi, 0.1)\n",
        "a = 1\n",
        "x = a*phi*np.cos(phi)\n",
        "y = a*phi*np.sin(phi)\n",
        "dr = (np.diff(x)**2 + np.diff(y)**2)**.5 # segment lengths\n",
        "r = np.zeros_like(x)\n",
        "r[1:] = np.cumsum(dr)                # integrate path\n",
        "r_int = np.linspace(0, r.max(), 200) # regular spaced path\n",
        "x_int = np.interp(r_int, r, x)       # integrate path\n",
        "y_int = np.interp(r_int, r, y)"
      ]
    },
    {
      "cell_type": "markdown",
      "metadata": {
        "id": "Of39uorBirxo"
      },
      "source": [
        "#### 99. Given an integer n and a 2D array X, select from X the rows which can be interpreted as draws from a multinomial distribution with n degrees, i.e., the rows which only contain integers and which sum to n. (★★★) \n",
        "(**hint**: np.logical\\_and.reduce, np.mod)"
      ]
    },
    {
      "cell_type": "code",
      "execution_count": 78,
      "metadata": {
        "id": "1S3G2j8Rirxp",
        "colab": {
          "base_uri": "https://localhost:8080/"
        },
        "outputId": "8b58ee68-6af4-4381-fb60-77a3e82b4915"
      },
      "outputs": [
        {
          "output_type": "stream",
          "name": "stdout",
          "text": [
            "[[2. 0. 1. 1.]]\n"
          ]
        }
      ],
      "source": [
        "import numpy as np\n",
        "X = np.asarray([[1.0, 0.0, 3.0, 8.0],\n",
        "                [2.0, 0.0, 1.0, 1.0],\n",
        "                [1.5, 2.5, 1.0, 0.0]])\n",
        "n = 4\n",
        "M = np.logical_and.reduce(np.mod(X, 1) == 0, axis=-1)\n",
        "M &= (X.sum(axis=-1) == n)\n",
        "print(X[M])"
      ]
    },
    {
      "cell_type": "markdown",
      "metadata": {
        "id": "nhc2LEYuirxp"
      },
      "source": [
        "#### 100. Compute bootstrapped 95% confidence intervals for the mean of a 1D array X (i.e., resample the elements of an array with replacement N times, compute the mean of each sample, and then compute percentiles over the means). (★★★) \n",
        "(**hint**: np.percentile)"
      ]
    },
    {
      "cell_type": "code",
      "execution_count": 79,
      "metadata": {
        "id": "U5zlxjN2irxp",
        "colab": {
          "base_uri": "https://localhost:8080/"
        },
        "outputId": "2b7131bf-a6e0-41f2-f253-e04f424e7c1c"
      },
      "outputs": [
        {
          "output_type": "stream",
          "name": "stdout",
          "text": [
            "[-0.19862105  0.19882271]\n"
          ]
        }
      ],
      "source": [
        "import numpy as np\n",
        "X = np.random.randn(100) # random 1D array\n",
        "N = 1000 # number of bootstrap samples\n",
        "idx = np.random.randint(0, X.size, (N, X.size))\n",
        "means = X[idx].mean(axis=1)\n",
        "confint = np.percentile(means, [2.5, 97.5])\n",
        "print(confint)"
      ]
    }
  ],
  "metadata": {
    "kernelspec": {
      "display_name": "Python 3",
      "language": "python",
      "name": "python3"
    },
    "language_info": {
      "codemirror_mode": {
        "name": "ipython",
        "version": 3
      },
      "file_extension": ".py",
      "mimetype": "text/x-python",
      "name": "python",
      "nbconvert_exporter": "python",
      "pygments_lexer": "ipython3",
      "version": "3.8.3"
    },
    "colab": {
      "name": "Copy of Numpy_tasks.ipynb",
      "provenance": [],
      "collapsed_sections": [],
      "include_colab_link": true
    }
  },
  "nbformat": 4,
  "nbformat_minor": 0
}